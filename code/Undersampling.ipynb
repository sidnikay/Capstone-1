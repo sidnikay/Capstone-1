{
  "nbformat": 4,
  "nbformat_minor": 0,
  "metadata": {
    "kernelspec": {
      "display_name": "Python 3",
      "language": "python",
      "name": "python3"
    },
    "language_info": {
      "codemirror_mode": {
        "name": "ipython",
        "version": 3
      },
      "file_extension": ".py",
      "mimetype": "text/x-python",
      "name": "python",
      "nbconvert_exporter": "python",
      "pygments_lexer": "ipython3",
      "version": "3.8.3"
    },
    "colab": {
      "name": "Undersampling.ipynb",
      "provenance": [],
      "collapsed_sections": []
    }
  },
  "cells": [
    {
      "cell_type": "code",
      "metadata": {
        "colab": {
          "base_uri": "https://localhost:8080/"
        },
        "id": "RJgrmRhIYQqE",
        "outputId": "bad38478-f8f9-4b00-a813-3acb4e024a66"
      },
      "source": [
        "# Imports\n",
        "import keras\n",
        "import numpy as np\n",
        "import pandas as pd\n",
        "import seaborn as sns\n",
        "import tensorflow as tf\n",
        "from sklearn import metrics\n",
        "import matplotlib.pyplot as plt\n",
        "from sklearn.preprocessing import StandardScaler\n",
        "from sklearn.model_selection import train_test_split\n",
        "from imblearn.under_sampling import RandomUnderSampler\n",
        "from imblearn.keras import balanced_batch_generator\n",
        "from tensorflow.keras.models import Sequential\n",
        "from tensorflow.keras.layers import Dense\n",
        "from sklearn.metrics import classification_report, confusion_matrix\n",
        "from tensorflow.keras.layers import Dropout\n",
        "from tensorflow.keras.callbacks import EarlyStopping\n",
        "from tensorflow.keras.regularizers import l2"
      ],
      "execution_count": 1,
      "outputs": [
        {
          "output_type": "stream",
          "text": [
            "/usr/local/lib/python3.6/dist-packages/sklearn/externals/six.py:31: FutureWarning: The module is deprecated in version 0.21 and will be removed in version 0.23 since we've dropped support for Python 2.7. Please rely on the official version of six (https://pypi.org/project/six/).\n",
            "  \"(https://pypi.org/project/six/).\", FutureWarning)\n",
            "/usr/local/lib/python3.6/dist-packages/sklearn/utils/deprecation.py:144: FutureWarning: The sklearn.neighbors.base module is  deprecated in version 0.22 and will be removed in version 0.24. The corresponding classes / functions should instead be imported from sklearn.neighbors. Anything that cannot be imported from sklearn.neighbors is now part of the private API.\n",
            "  warnings.warn(message, FutureWarning)\n",
            "/usr/local/lib/python3.6/dist-packages/sklearn/utils/deprecation.py:144: FutureWarning: The sklearn.utils.testing module is  deprecated in version 0.22 and will be removed in version 0.24. The corresponding classes / functions should instead be imported from sklearn.utils. Anything that cannot be imported from sklearn.utils is now part of the private API.\n",
            "  warnings.warn(message, FutureWarning)\n"
          ],
          "name": "stderr"
        }
      ]
    },
    {
      "cell_type": "code",
      "metadata": {
        "id": "Ngptysf8YQqG"
      },
      "source": [
        "# !pip install -U imbalanced-learn"
      ],
      "execution_count": 2,
      "outputs": []
    },
    {
      "cell_type": "code",
      "metadata": {
        "colab": {
          "resources": {
            "http://localhost:8080/nbextensions/google.colab/files.js": {
              "data": "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",
              "ok": true,
              "headers": [
                [
                  "content-type",
                  "application/javascript"
                ]
              ],
              "status": 200,
              "status_text": ""
            }
          },
          "base_uri": "https://localhost:8080/",
          "height": 72
        },
        "id": "0NS2dP8MPb80",
        "outputId": "6786f915-cbd6-40ee-b4fa-5f4e66a08832"
      },
      "source": [
        "# Importing the the clean csv\n",
        "from google.colab import files\n",
        "data_to_load = files.upload()"
      ],
      "execution_count": 3,
      "outputs": [
        {
          "output_type": "display_data",
          "data": {
            "text/html": [
              "\n",
              "     <input type=\"file\" id=\"files-400d62da-d8a2-466a-8826-1f1d50e8a59f\" name=\"files[]\" multiple disabled\n",
              "        style=\"border:none\" />\n",
              "     <output id=\"result-400d62da-d8a2-466a-8826-1f1d50e8a59f\">\n",
              "      Upload widget is only available when the cell has been executed in the\n",
              "      current browser session. Please rerun this cell to enable.\n",
              "      </output>\n",
              "      <script src=\"/nbextensions/google.colab/files.js\"></script> "
            ],
            "text/plain": [
              "<IPython.core.display.HTML object>"
            ]
          },
          "metadata": {
            "tags": []
          }
        },
        {
          "output_type": "stream",
          "text": [
            "Saving df_clean.csv to df_clean.csv\n"
          ],
          "name": "stdout"
        }
      ]
    },
    {
      "cell_type": "code",
      "metadata": {
        "id": "Ticfu5s6YQqH"
      },
      "source": [
        "# Creating the dataframe\n",
        "import io\n",
        "df = pd.read_csv(io.BytesIO(data_to_load['df_clean.csv']))"
      ],
      "execution_count": 4,
      "outputs": []
    },
    {
      "cell_type": "code",
      "metadata": {
        "colab": {
          "base_uri": "https://localhost:8080/",
          "height": 292
        },
        "id": "ZH_SexOXYQqH",
        "outputId": "e6c74e5d-1dde-4641-f2fd-54ca540401b4"
      },
      "source": [
        "# Looking at the rows\n",
        "df.head()"
      ],
      "execution_count": 5,
      "outputs": [
        {
          "output_type": "execute_result",
          "data": {
            "text/html": [
              "<div>\n",
              "<style scoped>\n",
              "    .dataframe tbody tr th:only-of-type {\n",
              "        vertical-align: middle;\n",
              "    }\n",
              "\n",
              "    .dataframe tbody tr th {\n",
              "        vertical-align: top;\n",
              "    }\n",
              "\n",
              "    .dataframe thead th {\n",
              "        text-align: right;\n",
              "    }\n",
              "</style>\n",
              "<table border=\"1\" class=\"dataframe\">\n",
              "  <thead>\n",
              "    <tr style=\"text-align: right;\">\n",
              "      <th></th>\n",
              "      <th>swab_type</th>\n",
              "      <th>covid19_test_results</th>\n",
              "      <th>age</th>\n",
              "      <th>high_risk_exposure_occupation</th>\n",
              "      <th>diabetes</th>\n",
              "      <th>chd</th>\n",
              "      <th>htn</th>\n",
              "      <th>cancer</th>\n",
              "      <th>asthma</th>\n",
              "      <th>copd</th>\n",
              "      <th>autoimmune_dis</th>\n",
              "      <th>smoker</th>\n",
              "      <th>temperature</th>\n",
              "      <th>pulse</th>\n",
              "      <th>sys</th>\n",
              "      <th>dia</th>\n",
              "      <th>rr</th>\n",
              "      <th>sats</th>\n",
              "      <th>days_since_symptom_onset</th>\n",
              "      <th>cough</th>\n",
              "      <th>sob</th>\n",
              "      <th>diarrhea</th>\n",
              "      <th>fatigue</th>\n",
              "      <th>headache</th>\n",
              "      <th>loss_of_smell</th>\n",
              "      <th>loss_of_taste</th>\n",
              "      <th>runny_nose</th>\n",
              "      <th>muscle_sore</th>\n",
              "      <th>sore_throat</th>\n",
              "      <th>test_name_COVID-19 PCR Test (Curative)</th>\n",
              "      <th>test_name_COVID-19 Vitagene At Home Test Kit</th>\n",
              "      <th>test_name_Rapid COVID-19 PCR Test</th>\n",
              "      <th>test_name_Rapid COVID-19 Test</th>\n",
              "      <th>test_name_SARS COV 2 RNA RTPCR</th>\n",
              "      <th>test_name_SARS COV2 NAAT</th>\n",
              "      <th>test_name_SARS CoV w/CoV 2 RNA</th>\n",
              "      <th>test_name_SARS-CoV-2 (COVID-19) by NAAT/RT-PCR/TMA, High Risk</th>\n",
              "      <th>test_name_SARS-CoV-2 (COVID-19) by NAAT/RT-PCR/TMA, Unknown Risk</th>\n",
              "      <th>test_name_SARS-CoV-2, NAA</th>\n",
              "      <th>fever2</th>\n",
              "      <th>high_risk_interactions_False</th>\n",
              "      <th>high_risk_interactions_True</th>\n",
              "      <th>high_risk_interactions_nan</th>\n",
              "      <th>ctab_False</th>\n",
              "      <th>ctab_True</th>\n",
              "      <th>ctab_nan</th>\n",
              "      <th>labored_respiration_False</th>\n",
              "      <th>labored_respiration_True</th>\n",
              "      <th>labored_respiration_nan</th>\n",
              "      <th>rhonchi_False</th>\n",
              "      <th>rhonchi_True</th>\n",
              "      <th>rhonchi_nan</th>\n",
              "      <th>wheezes_False</th>\n",
              "      <th>wheezes_True</th>\n",
              "      <th>wheezes_nan</th>\n",
              "    </tr>\n",
              "  </thead>\n",
              "  <tbody>\n",
              "    <tr>\n",
              "      <th>0</th>\n",
              "      <td>0</td>\n",
              "      <td>0</td>\n",
              "      <td>15</td>\n",
              "      <td>0</td>\n",
              "      <td>0</td>\n",
              "      <td>0</td>\n",
              "      <td>0</td>\n",
              "      <td>0</td>\n",
              "      <td>0</td>\n",
              "      <td>0</td>\n",
              "      <td>0</td>\n",
              "      <td>0</td>\n",
              "      <td>37.00</td>\n",
              "      <td>74.0</td>\n",
              "      <td>123.0</td>\n",
              "      <td>80.0</td>\n",
              "      <td>17</td>\n",
              "      <td>99.0</td>\n",
              "      <td>7.063914</td>\n",
              "      <td>0</td>\n",
              "      <td>0</td>\n",
              "      <td>0</td>\n",
              "      <td>0</td>\n",
              "      <td>0</td>\n",
              "      <td>0</td>\n",
              "      <td>0</td>\n",
              "      <td>0</td>\n",
              "      <td>0</td>\n",
              "      <td>0</td>\n",
              "      <td>0</td>\n",
              "      <td>0</td>\n",
              "      <td>0</td>\n",
              "      <td>0</td>\n",
              "      <td>0</td>\n",
              "      <td>0</td>\n",
              "      <td>0</td>\n",
              "      <td>0</td>\n",
              "      <td>0</td>\n",
              "      <td>1</td>\n",
              "      <td>0</td>\n",
              "      <td>1</td>\n",
              "      <td>0</td>\n",
              "      <td>0</td>\n",
              "      <td>1</td>\n",
              "      <td>0</td>\n",
              "      <td>0</td>\n",
              "      <td>1</td>\n",
              "      <td>0</td>\n",
              "      <td>0</td>\n",
              "      <td>1</td>\n",
              "      <td>0</td>\n",
              "      <td>0</td>\n",
              "      <td>1</td>\n",
              "      <td>0</td>\n",
              "      <td>0</td>\n",
              "    </tr>\n",
              "    <tr>\n",
              "      <th>1</th>\n",
              "      <td>1</td>\n",
              "      <td>0</td>\n",
              "      <td>20</td>\n",
              "      <td>0</td>\n",
              "      <td>0</td>\n",
              "      <td>0</td>\n",
              "      <td>0</td>\n",
              "      <td>0</td>\n",
              "      <td>0</td>\n",
              "      <td>0</td>\n",
              "      <td>0</td>\n",
              "      <td>0</td>\n",
              "      <td>36.75</td>\n",
              "      <td>88.0</td>\n",
              "      <td>105.0</td>\n",
              "      <td>73.0</td>\n",
              "      <td>12</td>\n",
              "      <td>96.0</td>\n",
              "      <td>7.063914</td>\n",
              "      <td>0</td>\n",
              "      <td>0</td>\n",
              "      <td>0</td>\n",
              "      <td>0</td>\n",
              "      <td>0</td>\n",
              "      <td>0</td>\n",
              "      <td>0</td>\n",
              "      <td>0</td>\n",
              "      <td>0</td>\n",
              "      <td>0</td>\n",
              "      <td>0</td>\n",
              "      <td>0</td>\n",
              "      <td>0</td>\n",
              "      <td>0</td>\n",
              "      <td>0</td>\n",
              "      <td>1</td>\n",
              "      <td>0</td>\n",
              "      <td>0</td>\n",
              "      <td>0</td>\n",
              "      <td>0</td>\n",
              "      <td>0</td>\n",
              "      <td>1</td>\n",
              "      <td>0</td>\n",
              "      <td>0</td>\n",
              "      <td>0</td>\n",
              "      <td>1</td>\n",
              "      <td>0</td>\n",
              "      <td>1</td>\n",
              "      <td>0</td>\n",
              "      <td>0</td>\n",
              "      <td>0</td>\n",
              "      <td>1</td>\n",
              "      <td>0</td>\n",
              "      <td>0</td>\n",
              "      <td>1</td>\n",
              "      <td>0</td>\n",
              "    </tr>\n",
              "    <tr>\n",
              "      <th>2</th>\n",
              "      <td>0</td>\n",
              "      <td>0</td>\n",
              "      <td>14</td>\n",
              "      <td>0</td>\n",
              "      <td>0</td>\n",
              "      <td>0</td>\n",
              "      <td>0</td>\n",
              "      <td>0</td>\n",
              "      <td>0</td>\n",
              "      <td>0</td>\n",
              "      <td>0</td>\n",
              "      <td>0</td>\n",
              "      <td>36.95</td>\n",
              "      <td>83.0</td>\n",
              "      <td>138.0</td>\n",
              "      <td>61.0</td>\n",
              "      <td>18</td>\n",
              "      <td>99.0</td>\n",
              "      <td>7.063914</td>\n",
              "      <td>0</td>\n",
              "      <td>0</td>\n",
              "      <td>0</td>\n",
              "      <td>0</td>\n",
              "      <td>0</td>\n",
              "      <td>0</td>\n",
              "      <td>0</td>\n",
              "      <td>0</td>\n",
              "      <td>0</td>\n",
              "      <td>0</td>\n",
              "      <td>0</td>\n",
              "      <td>0</td>\n",
              "      <td>0</td>\n",
              "      <td>0</td>\n",
              "      <td>0</td>\n",
              "      <td>0</td>\n",
              "      <td>0</td>\n",
              "      <td>0</td>\n",
              "      <td>0</td>\n",
              "      <td>1</td>\n",
              "      <td>0</td>\n",
              "      <td>0</td>\n",
              "      <td>0</td>\n",
              "      <td>1</td>\n",
              "      <td>1</td>\n",
              "      <td>0</td>\n",
              "      <td>0</td>\n",
              "      <td>1</td>\n",
              "      <td>0</td>\n",
              "      <td>0</td>\n",
              "      <td>0</td>\n",
              "      <td>0</td>\n",
              "      <td>1</td>\n",
              "      <td>0</td>\n",
              "      <td>0</td>\n",
              "      <td>1</td>\n",
              "    </tr>\n",
              "    <tr>\n",
              "      <th>3</th>\n",
              "      <td>1</td>\n",
              "      <td>0</td>\n",
              "      <td>32</td>\n",
              "      <td>0</td>\n",
              "      <td>0</td>\n",
              "      <td>0</td>\n",
              "      <td>0</td>\n",
              "      <td>0</td>\n",
              "      <td>0</td>\n",
              "      <td>0</td>\n",
              "      <td>0</td>\n",
              "      <td>0</td>\n",
              "      <td>36.85</td>\n",
              "      <td>88.0</td>\n",
              "      <td>160.0</td>\n",
              "      <td>99.0</td>\n",
              "      <td>12</td>\n",
              "      <td>99.0</td>\n",
              "      <td>7.063914</td>\n",
              "      <td>0</td>\n",
              "      <td>0</td>\n",
              "      <td>0</td>\n",
              "      <td>0</td>\n",
              "      <td>0</td>\n",
              "      <td>0</td>\n",
              "      <td>0</td>\n",
              "      <td>0</td>\n",
              "      <td>0</td>\n",
              "      <td>0</td>\n",
              "      <td>0</td>\n",
              "      <td>0</td>\n",
              "      <td>0</td>\n",
              "      <td>0</td>\n",
              "      <td>0</td>\n",
              "      <td>0</td>\n",
              "      <td>0</td>\n",
              "      <td>0</td>\n",
              "      <td>0</td>\n",
              "      <td>1</td>\n",
              "      <td>0</td>\n",
              "      <td>1</td>\n",
              "      <td>0</td>\n",
              "      <td>0</td>\n",
              "      <td>1</td>\n",
              "      <td>0</td>\n",
              "      <td>0</td>\n",
              "      <td>0</td>\n",
              "      <td>0</td>\n",
              "      <td>1</td>\n",
              "      <td>0</td>\n",
              "      <td>0</td>\n",
              "      <td>1</td>\n",
              "      <td>0</td>\n",
              "      <td>0</td>\n",
              "      <td>1</td>\n",
              "    </tr>\n",
              "    <tr>\n",
              "      <th>4</th>\n",
              "      <td>0</td>\n",
              "      <td>0</td>\n",
              "      <td>29</td>\n",
              "      <td>0</td>\n",
              "      <td>0</td>\n",
              "      <td>0</td>\n",
              "      <td>0</td>\n",
              "      <td>0</td>\n",
              "      <td>0</td>\n",
              "      <td>0</td>\n",
              "      <td>0</td>\n",
              "      <td>0</td>\n",
              "      <td>37.00</td>\n",
              "      <td>82.0</td>\n",
              "      <td>111.0</td>\n",
              "      <td>74.0</td>\n",
              "      <td>17</td>\n",
              "      <td>99.0</td>\n",
              "      <td>3.000000</td>\n",
              "      <td>0</td>\n",
              "      <td>0</td>\n",
              "      <td>0</td>\n",
              "      <td>1</td>\n",
              "      <td>1</td>\n",
              "      <td>0</td>\n",
              "      <td>0</td>\n",
              "      <td>0</td>\n",
              "      <td>0</td>\n",
              "      <td>0</td>\n",
              "      <td>0</td>\n",
              "      <td>0</td>\n",
              "      <td>0</td>\n",
              "      <td>0</td>\n",
              "      <td>0</td>\n",
              "      <td>0</td>\n",
              "      <td>0</td>\n",
              "      <td>0</td>\n",
              "      <td>0</td>\n",
              "      <td>1</td>\n",
              "      <td>0</td>\n",
              "      <td>0</td>\n",
              "      <td>1</td>\n",
              "      <td>0</td>\n",
              "      <td>1</td>\n",
              "      <td>0</td>\n",
              "      <td>0</td>\n",
              "      <td>0</td>\n",
              "      <td>0</td>\n",
              "      <td>1</td>\n",
              "      <td>0</td>\n",
              "      <td>0</td>\n",
              "      <td>1</td>\n",
              "      <td>1</td>\n",
              "      <td>0</td>\n",
              "      <td>0</td>\n",
              "    </tr>\n",
              "  </tbody>\n",
              "</table>\n",
              "</div>"
            ],
            "text/plain": [
              "   swab_type  covid19_test_results  ...  wheezes_True  wheezes_nan\n",
              "0          0                     0  ...             0            0\n",
              "1          1                     0  ...             1            0\n",
              "2          0                     0  ...             0            1\n",
              "3          1                     0  ...             0            1\n",
              "4          0                     0  ...             0            0\n",
              "\n",
              "[5 rows x 55 columns]"
            ]
          },
          "metadata": {
            "tags": []
          },
          "execution_count": 5
        }
      ]
    },
    {
      "cell_type": "code",
      "metadata": {
        "colab": {
          "base_uri": "https://localhost:8080/"
        },
        "id": "4qPkNRprgsA_",
        "outputId": "d67eac1f-bc3a-407b-e299-3daf01d2c4ac"
      },
      "source": [
        "# Checking for nulls and looking at the dtype\n",
        "df.info()"
      ],
      "execution_count": 6,
      "outputs": [
        {
          "output_type": "stream",
          "text": [
            "<class 'pandas.core.frame.DataFrame'>\n",
            "RangeIndex: 73369 entries, 0 to 73368\n",
            "Data columns (total 55 columns):\n",
            " #   Column                                                            Non-Null Count  Dtype  \n",
            "---  ------                                                            --------------  -----  \n",
            " 0   swab_type                                                         73369 non-null  int64  \n",
            " 1   covid19_test_results                                              73369 non-null  int64  \n",
            " 2   age                                                               73369 non-null  int64  \n",
            " 3   high_risk_exposure_occupation                                     73369 non-null  int64  \n",
            " 4   diabetes                                                          73369 non-null  int64  \n",
            " 5   chd                                                               73369 non-null  int64  \n",
            " 6   htn                                                               73369 non-null  int64  \n",
            " 7   cancer                                                            73369 non-null  int64  \n",
            " 8   asthma                                                            73369 non-null  int64  \n",
            " 9   copd                                                              73369 non-null  int64  \n",
            " 10  autoimmune_dis                                                    73369 non-null  int64  \n",
            " 11  smoker                                                            73369 non-null  int64  \n",
            " 12  temperature                                                       73369 non-null  float64\n",
            " 13  pulse                                                             73369 non-null  float64\n",
            " 14  sys                                                               73369 non-null  float64\n",
            " 15  dia                                                               73369 non-null  float64\n",
            " 16  rr                                                                73369 non-null  int64  \n",
            " 17  sats                                                              73369 non-null  float64\n",
            " 18  days_since_symptom_onset                                          73369 non-null  float64\n",
            " 19  cough                                                             73369 non-null  int64  \n",
            " 20  sob                                                               73369 non-null  int64  \n",
            " 21  diarrhea                                                          73369 non-null  int64  \n",
            " 22  fatigue                                                           73369 non-null  int64  \n",
            " 23  headache                                                          73369 non-null  int64  \n",
            " 24  loss_of_smell                                                     73369 non-null  int64  \n",
            " 25  loss_of_taste                                                     73369 non-null  int64  \n",
            " 26  runny_nose                                                        73369 non-null  int64  \n",
            " 27  muscle_sore                                                       73369 non-null  int64  \n",
            " 28  sore_throat                                                       73369 non-null  int64  \n",
            " 29  test_name_COVID-19 PCR Test (Curative)                            73369 non-null  int64  \n",
            " 30  test_name_COVID-19 Vitagene At Home Test Kit                      73369 non-null  int64  \n",
            " 31  test_name_Rapid COVID-19 PCR Test                                 73369 non-null  int64  \n",
            " 32  test_name_Rapid COVID-19 Test                                     73369 non-null  int64  \n",
            " 33  test_name_SARS COV 2 RNA RTPCR                                    73369 non-null  int64  \n",
            " 34  test_name_SARS COV2 NAAT                                          73369 non-null  int64  \n",
            " 35  test_name_SARS CoV w/CoV 2 RNA                                    73369 non-null  int64  \n",
            " 36  test_name_SARS-CoV-2 (COVID-19) by NAAT/RT-PCR/TMA, High Risk     73369 non-null  int64  \n",
            " 37  test_name_SARS-CoV-2 (COVID-19) by NAAT/RT-PCR/TMA, Unknown Risk  73369 non-null  int64  \n",
            " 38  test_name_SARS-CoV-2, NAA                                         73369 non-null  int64  \n",
            " 39  fever2                                                            73369 non-null  int64  \n",
            " 40  high_risk_interactions_False                                      73369 non-null  int64  \n",
            " 41  high_risk_interactions_True                                       73369 non-null  int64  \n",
            " 42  high_risk_interactions_nan                                        73369 non-null  int64  \n",
            " 43  ctab_False                                                        73369 non-null  int64  \n",
            " 44  ctab_True                                                         73369 non-null  int64  \n",
            " 45  ctab_nan                                                          73369 non-null  int64  \n",
            " 46  labored_respiration_False                                         73369 non-null  int64  \n",
            " 47  labored_respiration_True                                          73369 non-null  int64  \n",
            " 48  labored_respiration_nan                                           73369 non-null  int64  \n",
            " 49  rhonchi_False                                                     73369 non-null  int64  \n",
            " 50  rhonchi_True                                                      73369 non-null  int64  \n",
            " 51  rhonchi_nan                                                       73369 non-null  int64  \n",
            " 52  wheezes_False                                                     73369 non-null  int64  \n",
            " 53  wheezes_True                                                      73369 non-null  int64  \n",
            " 54  wheezes_nan                                                       73369 non-null  int64  \n",
            "dtypes: float64(6), int64(49)\n",
            "memory usage: 30.8 MB\n"
          ],
          "name": "stdout"
        }
      ]
    },
    {
      "cell_type": "code",
      "metadata": {
        "colab": {
          "base_uri": "https://localhost:8080/"
        },
        "id": "o_EmaW8LGylC",
        "outputId": "3342e06f-c00c-4e90-9580-785b912a1c52"
      },
      "source": [
        "# Looking at the df columns \n",
        "df.columns"
      ],
      "execution_count": 7,
      "outputs": [
        {
          "output_type": "execute_result",
          "data": {
            "text/plain": [
              "Index(['swab_type', 'covid19_test_results', 'age',\n",
              "       'high_risk_exposure_occupation', 'diabetes', 'chd', 'htn', 'cancer',\n",
              "       'asthma', 'copd', 'autoimmune_dis', 'smoker', 'temperature', 'pulse',\n",
              "       'sys', 'dia', 'rr', 'sats', 'days_since_symptom_onset', 'cough', 'sob',\n",
              "       'diarrhea', 'fatigue', 'headache', 'loss_of_smell', 'loss_of_taste',\n",
              "       'runny_nose', 'muscle_sore', 'sore_throat',\n",
              "       'test_name_COVID-19 PCR Test (Curative)',\n",
              "       'test_name_COVID-19 Vitagene At Home Test Kit',\n",
              "       'test_name_Rapid COVID-19 PCR Test', 'test_name_Rapid COVID-19 Test',\n",
              "       'test_name_SARS COV 2 RNA RTPCR', 'test_name_SARS COV2 NAAT',\n",
              "       'test_name_SARS CoV w/CoV 2 RNA',\n",
              "       'test_name_SARS-CoV-2 (COVID-19) by NAAT/RT-PCR/TMA, High Risk',\n",
              "       'test_name_SARS-CoV-2 (COVID-19) by NAAT/RT-PCR/TMA, Unknown Risk',\n",
              "       'test_name_SARS-CoV-2, NAA', 'fever2', 'high_risk_interactions_False',\n",
              "       'high_risk_interactions_True', 'high_risk_interactions_nan',\n",
              "       'ctab_False', 'ctab_True', 'ctab_nan', 'labored_respiration_False',\n",
              "       'labored_respiration_True', 'labored_respiration_nan', 'rhonchi_False',\n",
              "       'rhonchi_True', 'rhonchi_nan', 'wheezes_False', 'wheezes_True',\n",
              "       'wheezes_nan'],\n",
              "      dtype='object')"
            ]
          },
          "metadata": {
            "tags": []
          },
          "execution_count": 7
        }
      ]
    },
    {
      "cell_type": "code",
      "metadata": {
        "id": "gfHfT92oZ6wC"
      },
      "source": [
        "# Creating the X and y\n",
        "\n",
        "features = ['age',\n",
        "       'high_risk_exposure_occupation', 'diabetes', 'chd', 'htn', 'cancer',\n",
        "       'asthma', 'copd', 'autoimmune_dis', 'smoker', 'temperature', 'pulse',\n",
        "       'sys', 'dia', 'rr', 'sats', 'days_since_symptom_onset', 'cough', 'sob',\n",
        "       'diarrhea', 'fatigue', 'headache', 'loss_of_smell', 'loss_of_taste',\n",
        "       'runny_nose', 'muscle_sore', 'sore_throat',\n",
        "      'fever2', 'high_risk_interactions_False',\n",
        "       'high_risk_interactions_True', 'high_risk_interactions_nan',\n",
        "       'ctab_False', 'ctab_True', 'ctab_nan', 'labored_respiration_False',\n",
        "       'labored_respiration_True', 'labored_respiration_nan', 'rhonchi_False',\n",
        "       'rhonchi_True', 'rhonchi_nan', 'wheezes_False', 'wheezes_True',\n",
        "       'wheezes_nan']\n",
        "X = df[features]\n",
        "y = df['covid19_test_results']"
      ],
      "execution_count": 100,
      "outputs": []
    },
    {
      "cell_type": "code",
      "metadata": {
        "id": "J-YAWt4ej--U"
      },
      "source": [
        "# Train/ test split\n",
        "X_train, X_test, y_train, y_test = train_test_split(X, y, random_state=42)"
      ],
      "execution_count": 101,
      "outputs": []
    },
    {
      "cell_type": "code",
      "metadata": {
        "colab": {
          "base_uri": "https://localhost:8080/"
        },
        "id": "riGNPiODE_iL",
        "outputId": "15a8f059-ee51-47bb-a7a3-89c85710bb54"
      },
      "source": [
        "# Get the baseline\n",
        "y_test.value_counts(normalize=True)"
      ],
      "execution_count": 134,
      "outputs": [
        {
          "output_type": "execute_result",
          "data": {
            "text/plain": [
              "0    0.982064\n",
              "1    0.017936\n",
              "Name: covid19_test_results, dtype: float64"
            ]
          },
          "metadata": {
            "tags": []
          },
          "execution_count": 134
        }
      ]
    },
    {
      "cell_type": "code",
      "metadata": {
        "id": "ZQ-9Dc0VYQqI"
      },
      "source": [
        "# Instanite the Random Under Sampler\n",
        "rus = RandomUnderSampler(random_state= 42, replacement=True)\n"
      ],
      "execution_count": 104,
      "outputs": []
    },
    {
      "cell_type": "code",
      "metadata": {
        "colab": {
          "base_uri": "https://localhost:8080/"
        },
        "id": "S1TMP_XjcNf_",
        "outputId": "367f73e2-5160-41a0-fec4-fe1611247ea5"
      },
      "source": [
        "# Fit X and y to Random Under Sampler\n",
        "X_under, y_under = rus.fit_resample(X_train, y_train)"
      ],
      "execution_count": 105,
      "outputs": [
        {
          "output_type": "stream",
          "text": [
            "/usr/local/lib/python3.6/dist-packages/sklearn/utils/deprecation.py:87: FutureWarning: Function safe_indexing is deprecated; safe_indexing is deprecated in version 0.22 and will be removed in version 0.24.\n",
            "  warnings.warn(msg, category=FutureWarning)\n"
          ],
          "name": "stderr"
        }
      ]
    },
    {
      "cell_type": "code",
      "metadata": {
        "id": "iq-F2PGbadmm"
      },
      "source": [
        "# Instantiate the model\n",
        "model = Sequential()\n",
        "\n",
        "model.add(Dense(1024, input_shape=(X_under.shape[1], ), activation='relu'))\n",
        "model.add(Dense(512, activation='relu'))\n",
        "model.add(Dropout(0.5)) \n",
        "model.add(Dense(256, activation='relu')) \n",
        "model.add(Dropout(0.5))\n",
        "model.add(Dense(128, activation='relu')) \n",
        "model.add(Dropout(0.5))\n",
        "model.add(Dense(64, activation='relu'))\n",
        "model.add(Dropout(0.5))\n",
        "model.add(Dense(16, activation='relu')) \n",
        "model.add(Dense(1, activation='sigmoid'))"
      ],
      "execution_count": 114,
      "outputs": []
    },
    {
      "cell_type": "code",
      "metadata": {
        "id": "z_HFyYJZfuWD"
      },
      "source": [
        "# Complie the model\n",
        "model.compile(loss='bce', optimizer='RMSProp', metrics=['acc'])"
      ],
      "execution_count": 115,
      "outputs": []
    },
    {
      "cell_type": "code",
      "metadata": {
        "id": "Aio6ZWJAOOmV"
      },
      "source": [
        " # Add early stopping \n",
        " early_stop = EarlyStopping(patience=5)"
      ],
      "execution_count": 116,
      "outputs": []
    },
    {
      "cell_type": "code",
      "metadata": {
        "id": "xH58pKTPfzHv",
        "colab": {
          "base_uri": "https://localhost:8080/"
        },
        "outputId": "ae4c4d19-e022-4dae-af25-84651fd42b32"
      },
      "source": [
        "# Fit the model to the Random Under Sampler X and y\n",
        "results = model.fit(X_under, y_under, \n",
        "                   epochs=25,\n",
        "                   validation_data=(np.asarray(X_test).astype(np.float32), np.asarray(y_test).astype(np.float32)),\n",
        "                   verbose=1, \n",
        "                   batch_size=256, callbacks=[early_stop]) "
      ],
      "execution_count": 117,
      "outputs": [
        {
          "output_type": "stream",
          "text": [
            "Epoch 1/25\n",
            "8/8 [==============================] - 2s 152ms/step - loss: 3.2235 - acc: 0.5075 - val_loss: 0.6141 - val_acc: 0.9821\n",
            "Epoch 2/25\n",
            "8/8 [==============================] - 1s 128ms/step - loss: 1.1541 - acc: 0.4860 - val_loss: 0.6412 - val_acc: 0.9812\n",
            "Epoch 3/25\n",
            "8/8 [==============================] - 1s 130ms/step - loss: 0.8292 - acc: 0.5091 - val_loss: 0.6564 - val_acc: 0.9820\n",
            "Epoch 4/25\n",
            "8/8 [==============================] - 1s 135ms/step - loss: 0.7954 - acc: 0.5020 - val_loss: 0.6616 - val_acc: 0.9543\n",
            "Epoch 5/25\n",
            "8/8 [==============================] - 1s 129ms/step - loss: 0.7273 - acc: 0.4770 - val_loss: 0.7123 - val_acc: 0.0796\n",
            "Epoch 6/25\n",
            "8/8 [==============================] - 1s 134ms/step - loss: 0.7197 - acc: 0.5134 - val_loss: 0.6824 - val_acc: 0.9800\n"
          ],
          "name": "stdout"
        }
      ]
    },
    {
      "cell_type": "code",
      "metadata": {
        "colab": {
          "base_uri": "https://localhost:8080/"
        },
        "id": "kcpepdo3NZda",
        "outputId": "6cc12897-aed2-4d86-b3ee-6bd379c7b9b8"
      },
      "source": [
        "# Check the MSE on the testing data\n",
        "model.evaluate(np.asarray(X_test).astype(np.float32), np.asarray(y_test).astype(np.float32))"
      ],
      "execution_count": 118,
      "outputs": [
        {
          "output_type": "stream",
          "text": [
            "574/574 [==============================] - 2s 3ms/step - loss: 0.6824 - acc: 0.9800\n"
          ],
          "name": "stdout"
        },
        {
          "output_type": "execute_result",
          "data": {
            "text/plain": [
              "[0.6823811531066895, 0.9799923896789551]"
            ]
          },
          "metadata": {
            "tags": []
          },
          "execution_count": 118
        }
      ]
    },
    {
      "cell_type": "code",
      "metadata": {
        "colab": {
          "base_uri": "https://localhost:8080/"
        },
        "id": "l2_T4cC5_Ai6",
        "outputId": "87d42790-330f-4354-ad8f-7be87ee4e187"
      },
      "source": [
        " # Prediciting the X_test and creating y_pred\n",
        "y_pred = model.predict_classes(np.asarray(X_test))"
      ],
      "execution_count": 119,
      "outputs": [
        {
          "output_type": "stream",
          "text": [
            "/usr/local/lib/python3.6/dist-packages/tensorflow/python/keras/engine/sequential.py:450: UserWarning: `model.predict_classes()` is deprecated and will be removed after 2021-01-01. Please use instead:* `np.argmax(model.predict(x), axis=-1)`,   if your model does multi-class classification   (e.g. if it uses a `softmax` last-layer activation).* `(model.predict(x) > 0.5).astype(\"int32\")`,   if your model does binary classification   (e.g. if it uses a `sigmoid` last-layer activation).\n",
            "  warnings.warn('`model.predict_classes()` is deprecated and '\n"
          ],
          "name": "stderr"
        }
      ]
    },
    {
      "cell_type": "code",
      "metadata": {
        "id": "esuOlECnO2EQ"
      },
      "source": [
        "# Creating y_true from y_test \n",
        "y_true=np.asarray(y_test)"
      ],
      "execution_count": 121,
      "outputs": []
    },
    {
      "cell_type": "code",
      "metadata": {
        "colab": {
          "base_uri": "https://localhost:8080/"
        },
        "id": "06i9SWdbXfuj",
        "outputId": "f389f2dc-32b9-4b63-e882-e58e8a097d8c"
      },
      "source": [
        "# Looking at the confusion matrix \n",
        "print(confusion_matrix(y_true,y_pred))"
      ],
      "execution_count": 123,
      "outputs": [
        {
          "output_type": "stream",
          "text": [
            "[[17975    39]\n",
            " [  328     1]]\n"
          ],
          "name": "stdout"
        }
      ]
    },
    {
      "cell_type": "code",
      "metadata": {
        "id": "TU36WKw1lJJ7"
      },
      "source": [
        "# Unraveling the confusion matrix \n",
        "tn, fp, fn, tp = confusion_matrix(y_true,y_pred).ravel()"
      ],
      "execution_count": 124,
      "outputs": []
    },
    {
      "cell_type": "code",
      "metadata": {
        "colab": {
          "base_uri": "https://localhost:8080/"
        },
        "id": "vKZZe8qklR55",
        "outputId": "0da18e14-fb33-46e3-d111-5f1ef99e511b"
      },
      "source": [
        "# True negative\n",
        "tn"
      ],
      "execution_count": 125,
      "outputs": [
        {
          "output_type": "execute_result",
          "data": {
            "text/plain": [
              "17975"
            ]
          },
          "metadata": {
            "tags": []
          },
          "execution_count": 125
        }
      ]
    },
    {
      "cell_type": "code",
      "metadata": {
        "colab": {
          "base_uri": "https://localhost:8080/"
        },
        "id": "U2WT-cOolRv6",
        "outputId": "6011a839-5d3b-47ce-983a-e4f7ee154294"
      },
      "source": [
        "# False positive \n",
        "fp"
      ],
      "execution_count": 126,
      "outputs": [
        {
          "output_type": "execute_result",
          "data": {
            "text/plain": [
              "39"
            ]
          },
          "metadata": {
            "tags": []
          },
          "execution_count": 126
        }
      ]
    },
    {
      "cell_type": "code",
      "metadata": {
        "colab": {
          "base_uri": "https://localhost:8080/"
        },
        "id": "oln8m42AlRnU",
        "outputId": "6d43f7e1-025f-4f53-f1d0-16c313baf12b"
      },
      "source": [
        "# False negative \n",
        "fn"
      ],
      "execution_count": 127,
      "outputs": [
        {
          "output_type": "execute_result",
          "data": {
            "text/plain": [
              "328"
            ]
          },
          "metadata": {
            "tags": []
          },
          "execution_count": 127
        }
      ]
    },
    {
      "cell_type": "code",
      "metadata": {
        "colab": {
          "base_uri": "https://localhost:8080/"
        },
        "id": "UvPNzmADlRZA",
        "outputId": "358a8edb-9a04-424d-ea7f-a59dd5cdd18f"
      },
      "source": [
        "# True positive \n",
        "tp"
      ],
      "execution_count": 128,
      "outputs": [
        {
          "output_type": "execute_result",
          "data": {
            "text/plain": [
              "1"
            ]
          },
          "metadata": {
            "tags": []
          },
          "execution_count": 128
        }
      ]
    },
    {
      "cell_type": "code",
      "metadata": {
        "colab": {
          "base_uri": "https://localhost:8080/"
        },
        "id": "LvtZ4mdo-t8V",
        "outputId": "7c0d46f6-264e-43cf-8a1e-f9199b1ef859"
      },
      "source": [
        "# Recall score \n",
        "metrics.recall_score(y_true=y_true, y_pred=y_pred)"
      ],
      "execution_count": 129,
      "outputs": [
        {
          "output_type": "execute_result",
          "data": {
            "text/plain": [
              "0.00303951367781155"
            ]
          },
          "metadata": {
            "tags": []
          },
          "execution_count": 129
        }
      ]
    },
    {
      "cell_type": "code",
      "metadata": {
        "colab": {
          "base_uri": "https://localhost:8080/"
        },
        "id": "kdZZnF4jWWu0",
        "outputId": "042fb30e-13d1-469b-9a68-84081612d843"
      },
      "source": [
        "# F1- score \n",
        "metrics.f1_score(y_true=y_true, y_pred=y_pred)"
      ],
      "execution_count": 137,
      "outputs": [
        {
          "output_type": "execute_result",
          "data": {
            "text/plain": [
              "0.005420054200542005"
            ]
          },
          "metadata": {
            "tags": []
          },
          "execution_count": 137
        }
      ]
    },
    {
      "cell_type": "code",
      "metadata": {
        "colab": {
          "base_uri": "https://localhost:8080/"
        },
        "id": "Qgie5zbLfnGM",
        "outputId": "2fedeec6-4d59-4088-df47-14fb3e8b13df"
      },
      "source": [
        "# Precision score \n",
        "metrics.precision_score(y_true=y_true, y_pred=y_pred)"
      ],
      "execution_count": 140,
      "outputs": [
        {
          "output_type": "execute_result",
          "data": {
            "text/plain": [
              "0.025"
            ]
          },
          "metadata": {
            "tags": []
          },
          "execution_count": 140
        }
      ]
    },
    {
      "cell_type": "code",
      "metadata": {
        "colab": {
          "base_uri": "https://localhost:8080/"
        },
        "id": "nHJeQBolf6LU",
        "outputId": "3a9faafc-e430-4d56-9416-d6ea92ed5276"
      },
      "source": [
        "# Looking at the results dictionary \n",
        "results.history.keys()"
      ],
      "execution_count": 130,
      "outputs": [
        {
          "output_type": "execute_result",
          "data": {
            "text/plain": [
              "dict_keys(['loss', 'acc', 'val_loss', 'val_acc'])"
            ]
          },
          "metadata": {
            "tags": []
          },
          "execution_count": 130
        }
      ]
    },
    {
      "cell_type": "code",
      "metadata": {
        "colab": {
          "base_uri": "https://localhost:8080/",
          "height": 483
        },
        "id": "Dkt_dvQrf7EF",
        "outputId": "2d461b1c-41fc-4b32-88d0-afa15ef73cad"
      },
      "source": [
        "# Graphing the Loss and Accuracy from the results \n",
        "train_loss = results.history['loss']\n",
        "test_loss = results.history['val_loss']\n",
        "train_acc = results.history['acc']\n",
        "test_acc = results.history['val_acc']\n",
        "\n",
        "plt.figure(figsize=(12, 8))\n",
        "plt.plot(train_loss, label='Training loss', color='navy')\n",
        "plt.plot(test_loss, label='Testing loss', color='skyblue')\n",
        "plt.plot(train_acc, label='Training acc')\n",
        "plt.plot(test_acc, label='Testing acc')\n",
        "plt.legend();"
      ],
      "execution_count": 142,
      "outputs": [
        {
          "output_type": "display_data",
          "data": {
            "image/png": "[encoded data removed]",
            "text/plain": [
              "<Figure size 864x576 with 1 Axes>"
            ]
          },
          "metadata": {
            "tags": [],
            "needs_background": "light"
          }
        }
      ]
    },
    {
      "cell_type": "code",
      "metadata": {
        "id": "ckQ94Jb6zKR5"
      },
      "source": [
        ""
      ],
      "execution_count": null,
      "outputs": []
    }
  ]
}