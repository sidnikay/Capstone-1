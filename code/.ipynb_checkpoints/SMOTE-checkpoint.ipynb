{
  "nbformat": 4,
  "nbformat_minor": 0,
  "metadata": {
    "kernelspec": {
      "display_name": "Python 3",
      "language": "python",
      "name": "python3"
    },
    "language_info": {
      "codemirror_mode": {
        "name": "ipython",
        "version": 3
      },
      "file_extension": ".py",
      "mimetype": "text/x-python",
      "name": "python",
      "nbconvert_exporter": "python",
      "pygments_lexer": "ipython3",
      "version": "3.8.3"
    },
    "colab": {
      "name": "SMOTE.ipynb",
      "provenance": [],
      "collapsed_sections": []
    }
  },
  "cells": [
    {
      "cell_type": "code",
      "metadata": {
        "colab": {
          "base_uri": "https://localhost:8080/"
        },
        "id": "azsn5eR0670W",
        "outputId": "053cf30c-f5ce-4351-d29e-e6815a3941b7"
      },
      "source": [
        "# Imports\n",
        "import keras\n",
        "import numpy as np\n",
        "import pandas as pd\n",
        "import seaborn as sns\n",
        "import tensorflow as tf\n",
        "from sklearn import metrics\n",
        "from imblearn.over_sampling import SMOTE\n",
        "import matplotlib.pyplot as plt\n",
        "from sklearn.preprocessing import StandardScaler\n",
        "from sklearn.model_selection import train_test_split\n",
        "from imblearn.over_sampling import RandomOverSampler\n",
        "from imblearn.keras import balanced_batch_generator\n",
        "from tensorflow.keras.models import Sequential\n",
        "from tensorflow.keras.layers import Dense\n",
        "from sklearn.metrics import classification_report, confusion_matrix\n",
        "from tensorflow.keras.layers import Dropout\n",
        "from tensorflow.keras.callbacks import EarlyStopping"
      ],
      "execution_count": 1,
      "outputs": [
        {
          "output_type": "stream",
          "text": [
            "/usr/local/lib/python3.6/dist-packages/sklearn/externals/six.py:31: FutureWarning: The module is deprecated in version 0.21 and will be removed in version 0.23 since we've dropped support for Python 2.7. Please rely on the official version of six (https://pypi.org/project/six/).\n",
            "  \"(https://pypi.org/project/six/).\", FutureWarning)\n",
            "/usr/local/lib/python3.6/dist-packages/sklearn/utils/deprecation.py:144: FutureWarning: The sklearn.neighbors.base module is  deprecated in version 0.22 and will be removed in version 0.24. The corresponding classes / functions should instead be imported from sklearn.neighbors. Anything that cannot be imported from sklearn.neighbors is now part of the private API.\n",
            "  warnings.warn(message, FutureWarning)\n",
            "/usr/local/lib/python3.6/dist-packages/sklearn/utils/deprecation.py:144: FutureWarning: The sklearn.utils.testing module is  deprecated in version 0.22 and will be removed in version 0.24. The corresponding classes / functions should instead be imported from sklearn.utils. Anything that cannot be imported from sklearn.utils is now part of the private API.\n",
            "  warnings.warn(message, FutureWarning)\n"
          ],
          "name": "stderr"
        }
      ]
    },
    {
      "cell_type": "code",
      "metadata": {
        "colab": {
          "resources": {
            "http://localhost:8080/nbextensions/google.colab/files.js": {
              "data": "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",
              "ok": true,
              "headers": [
                [
                  "content-type",
                  "application/javascript"
                ]
              ],
              "status": 200,
              "status_text": ""
            }
          },
          "base_uri": "https://localhost:8080/",
          "height": 72
        },
        "id": "Yjgu3vxP7kie",
        "outputId": "22200d18-5653-46bc-dda6-4ae2b1057821"
      },
      "source": [
        "# Importing the the clean csv\n",
        "from google.colab import files\n",
        "data_to_load = files.upload()"
      ],
      "execution_count": 2,
      "outputs": [
        {
          "output_type": "display_data",
          "data": {
            "text/html": [
              "\n",
              "     <input type=\"file\" id=\"files-d1ce3504-495c-47c1-affc-d88e3ed57eef\" name=\"files[]\" multiple disabled\n",
              "        style=\"border:none\" />\n",
              "     <output id=\"result-d1ce3504-495c-47c1-affc-d88e3ed57eef\">\n",
              "      Upload widget is only available when the cell has been executed in the\n",
              "      current browser session. Please rerun this cell to enable.\n",
              "      </output>\n",
              "      <script src=\"/nbextensions/google.colab/files.js\"></script> "
            ],
            "text/plain": [
              "<IPython.core.display.HTML object>"
            ]
          },
          "metadata": {
            "tags": []
          }
        },
        {
          "output_type": "stream",
          "text": [
            "Saving df_clean.csv to df_clean.csv\n"
          ],
          "name": "stdout"
        }
      ]
    },
    {
      "cell_type": "code",
      "metadata": {
        "id": "BzrnYgsd670Z"
      },
      "source": [
        "# Creating the dataframe\n",
        "import io\n",
        "df = pd.read_csv(io.BytesIO(data_to_load['df_clean.csv']))"
      ],
      "execution_count": 3,
      "outputs": []
    },
    {
      "cell_type": "code",
      "metadata": {
        "colab": {
          "base_uri": "https://localhost:8080/",
          "height": 292
        },
        "id": "N0KZ0ss3670a",
        "outputId": "3f051c33-8c70-40dc-8037-31030b2fdcb4"
      },
      "source": [
        "# Looking at the rows\n",
        "df.head()"
      ],
      "execution_count": 4,
      "outputs": [
        {
          "output_type": "execute_result",
          "data": {
            "text/html": [
              "<div>\n",
              "<style scoped>\n",
              "    .dataframe tbody tr th:only-of-type {\n",
              "        vertical-align: middle;\n",
              "    }\n",
              "\n",
              "    .dataframe tbody tr th {\n",
              "        vertical-align: top;\n",
              "    }\n",
              "\n",
              "    .dataframe thead th {\n",
              "        text-align: right;\n",
              "    }\n",
              "</style>\n",
              "<table border=\"1\" class=\"dataframe\">\n",
              "  <thead>\n",
              "    <tr style=\"text-align: right;\">\n",
              "      <th></th>\n",
              "      <th>swab_type</th>\n",
              "      <th>covid19_test_results</th>\n",
              "      <th>age</th>\n",
              "      <th>high_risk_exposure_occupation</th>\n",
              "      <th>diabetes</th>\n",
              "      <th>chd</th>\n",
              "      <th>htn</th>\n",
              "      <th>cancer</th>\n",
              "      <th>asthma</th>\n",
              "      <th>copd</th>\n",
              "      <th>autoimmune_dis</th>\n",
              "      <th>smoker</th>\n",
              "      <th>temperature</th>\n",
              "      <th>pulse</th>\n",
              "      <th>sys</th>\n",
              "      <th>dia</th>\n",
              "      <th>rr</th>\n",
              "      <th>sats</th>\n",
              "      <th>days_since_symptom_onset</th>\n",
              "      <th>cough</th>\n",
              "      <th>sob</th>\n",
              "      <th>diarrhea</th>\n",
              "      <th>fatigue</th>\n",
              "      <th>headache</th>\n",
              "      <th>loss_of_smell</th>\n",
              "      <th>loss_of_taste</th>\n",
              "      <th>runny_nose</th>\n",
              "      <th>muscle_sore</th>\n",
              "      <th>sore_throat</th>\n",
              "      <th>test_name_COVID-19 PCR Test (Curative)</th>\n",
              "      <th>test_name_COVID-19 Vitagene At Home Test Kit</th>\n",
              "      <th>test_name_Rapid COVID-19 PCR Test</th>\n",
              "      <th>test_name_Rapid COVID-19 Test</th>\n",
              "      <th>test_name_SARS COV 2 RNA RTPCR</th>\n",
              "      <th>test_name_SARS COV2 NAAT</th>\n",
              "      <th>test_name_SARS CoV w/CoV 2 RNA</th>\n",
              "      <th>test_name_SARS-CoV-2 (COVID-19) by NAAT/RT-PCR/TMA, High Risk</th>\n",
              "      <th>test_name_SARS-CoV-2 (COVID-19) by NAAT/RT-PCR/TMA, Unknown Risk</th>\n",
              "      <th>test_name_SARS-CoV-2, NAA</th>\n",
              "      <th>fever2</th>\n",
              "      <th>high_risk_interactions_False</th>\n",
              "      <th>high_risk_interactions_True</th>\n",
              "      <th>high_risk_interactions_nan</th>\n",
              "      <th>ctab_False</th>\n",
              "      <th>ctab_True</th>\n",
              "      <th>ctab_nan</th>\n",
              "      <th>labored_respiration_False</th>\n",
              "      <th>labored_respiration_True</th>\n",
              "      <th>labored_respiration_nan</th>\n",
              "      <th>rhonchi_False</th>\n",
              "      <th>rhonchi_True</th>\n",
              "      <th>rhonchi_nan</th>\n",
              "      <th>wheezes_False</th>\n",
              "      <th>wheezes_True</th>\n",
              "      <th>wheezes_nan</th>\n",
              "    </tr>\n",
              "  </thead>\n",
              "  <tbody>\n",
              "    <tr>\n",
              "      <th>0</th>\n",
              "      <td>0</td>\n",
              "      <td>0</td>\n",
              "      <td>15</td>\n",
              "      <td>0</td>\n",
              "      <td>0</td>\n",
              "      <td>0</td>\n",
              "      <td>0</td>\n",
              "      <td>0</td>\n",
              "      <td>0</td>\n",
              "      <td>0</td>\n",
              "      <td>0</td>\n",
              "      <td>0</td>\n",
              "      <td>37.00</td>\n",
              "      <td>74.0</td>\n",
              "      <td>123.0</td>\n",
              "      <td>80.0</td>\n",
              "      <td>17</td>\n",
              "      <td>99.0</td>\n",
              "      <td>7.063914</td>\n",
              "      <td>0</td>\n",
              "      <td>0</td>\n",
              "      <td>0</td>\n",
              "      <td>0</td>\n",
              "      <td>0</td>\n",
              "      <td>0</td>\n",
              "      <td>0</td>\n",
              "      <td>0</td>\n",
              "      <td>0</td>\n",
              "      <td>0</td>\n",
              "      <td>0</td>\n",
              "      <td>0</td>\n",
              "      <td>0</td>\n",
              "      <td>0</td>\n",
              "      <td>0</td>\n",
              "      <td>0</td>\n",
              "      <td>0</td>\n",
              "      <td>0</td>\n",
              "      <td>0</td>\n",
              "      <td>1</td>\n",
              "      <td>0</td>\n",
              "      <td>1</td>\n",
              "      <td>0</td>\n",
              "      <td>0</td>\n",
              "      <td>1</td>\n",
              "      <td>0</td>\n",
              "      <td>0</td>\n",
              "      <td>1</td>\n",
              "      <td>0</td>\n",
              "      <td>0</td>\n",
              "      <td>1</td>\n",
              "      <td>0</td>\n",
              "      <td>0</td>\n",
              "      <td>1</td>\n",
              "      <td>0</td>\n",
              "      <td>0</td>\n",
              "    </tr>\n",
              "    <tr>\n",
              "      <th>1</th>\n",
              "      <td>1</td>\n",
              "      <td>0</td>\n",
              "      <td>20</td>\n",
              "      <td>0</td>\n",
              "      <td>0</td>\n",
              "      <td>0</td>\n",
              "      <td>0</td>\n",
              "      <td>0</td>\n",
              "      <td>0</td>\n",
              "      <td>0</td>\n",
              "      <td>0</td>\n",
              "      <td>0</td>\n",
              "      <td>36.75</td>\n",
              "      <td>88.0</td>\n",
              "      <td>105.0</td>\n",
              "      <td>73.0</td>\n",
              "      <td>12</td>\n",
              "      <td>96.0</td>\n",
              "      <td>7.063914</td>\n",
              "      <td>0</td>\n",
              "      <td>0</td>\n",
              "      <td>0</td>\n",
              "      <td>0</td>\n",
              "      <td>0</td>\n",
              "      <td>0</td>\n",
              "      <td>0</td>\n",
              "      <td>0</td>\n",
              "      <td>0</td>\n",
              "      <td>0</td>\n",
              "      <td>0</td>\n",
              "      <td>0</td>\n",
              "      <td>0</td>\n",
              "      <td>0</td>\n",
              "      <td>0</td>\n",
              "      <td>1</td>\n",
              "      <td>0</td>\n",
              "      <td>0</td>\n",
              "      <td>0</td>\n",
              "      <td>0</td>\n",
              "      <td>0</td>\n",
              "      <td>1</td>\n",
              "      <td>0</td>\n",
              "      <td>0</td>\n",
              "      <td>0</td>\n",
              "      <td>1</td>\n",
              "      <td>0</td>\n",
              "      <td>1</td>\n",
              "      <td>0</td>\n",
              "      <td>0</td>\n",
              "      <td>0</td>\n",
              "      <td>1</td>\n",
              "      <td>0</td>\n",
              "      <td>0</td>\n",
              "      <td>1</td>\n",
              "      <td>0</td>\n",
              "    </tr>\n",
              "    <tr>\n",
              "      <th>2</th>\n",
              "      <td>0</td>\n",
              "      <td>0</td>\n",
              "      <td>14</td>\n",
              "      <td>0</td>\n",
              "      <td>0</td>\n",
              "      <td>0</td>\n",
              "      <td>0</td>\n",
              "      <td>0</td>\n",
              "      <td>0</td>\n",
              "      <td>0</td>\n",
              "      <td>0</td>\n",
              "      <td>0</td>\n",
              "      <td>36.95</td>\n",
              "      <td>83.0</td>\n",
              "      <td>138.0</td>\n",
              "      <td>61.0</td>\n",
              "      <td>18</td>\n",
              "      <td>99.0</td>\n",
              "      <td>7.063914</td>\n",
              "      <td>0</td>\n",
              "      <td>0</td>\n",
              "      <td>0</td>\n",
              "      <td>0</td>\n",
              "      <td>0</td>\n",
              "      <td>0</td>\n",
              "      <td>0</td>\n",
              "      <td>0</td>\n",
              "      <td>0</td>\n",
              "      <td>0</td>\n",
              "      <td>0</td>\n",
              "      <td>0</td>\n",
              "      <td>0</td>\n",
              "      <td>0</td>\n",
              "      <td>0</td>\n",
              "      <td>0</td>\n",
              "      <td>0</td>\n",
              "      <td>0</td>\n",
              "      <td>0</td>\n",
              "      <td>1</td>\n",
              "      <td>0</td>\n",
              "      <td>0</td>\n",
              "      <td>0</td>\n",
              "      <td>1</td>\n",
              "      <td>1</td>\n",
              "      <td>0</td>\n",
              "      <td>0</td>\n",
              "      <td>1</td>\n",
              "      <td>0</td>\n",
              "      <td>0</td>\n",
              "      <td>0</td>\n",
              "      <td>0</td>\n",
              "      <td>1</td>\n",
              "      <td>0</td>\n",
              "      <td>0</td>\n",
              "      <td>1</td>\n",
              "    </tr>\n",
              "    <tr>\n",
              "      <th>3</th>\n",
              "      <td>1</td>\n",
              "      <td>0</td>\n",
              "      <td>32</td>\n",
              "      <td>0</td>\n",
              "      <td>0</td>\n",
              "      <td>0</td>\n",
              "      <td>0</td>\n",
              "      <td>0</td>\n",
              "      <td>0</td>\n",
              "      <td>0</td>\n",
              "      <td>0</td>\n",
              "      <td>0</td>\n",
              "      <td>36.85</td>\n",
              "      <td>88.0</td>\n",
              "      <td>160.0</td>\n",
              "      <td>99.0</td>\n",
              "      <td>12</td>\n",
              "      <td>99.0</td>\n",
              "      <td>7.063914</td>\n",
              "      <td>0</td>\n",
              "      <td>0</td>\n",
              "      <td>0</td>\n",
              "      <td>0</td>\n",
              "      <td>0</td>\n",
              "      <td>0</td>\n",
              "      <td>0</td>\n",
              "      <td>0</td>\n",
              "      <td>0</td>\n",
              "      <td>0</td>\n",
              "      <td>0</td>\n",
              "      <td>0</td>\n",
              "      <td>0</td>\n",
              "      <td>0</td>\n",
              "      <td>0</td>\n",
              "      <td>0</td>\n",
              "      <td>0</td>\n",
              "      <td>0</td>\n",
              "      <td>0</td>\n",
              "      <td>1</td>\n",
              "      <td>0</td>\n",
              "      <td>1</td>\n",
              "      <td>0</td>\n",
              "      <td>0</td>\n",
              "      <td>1</td>\n",
              "      <td>0</td>\n",
              "      <td>0</td>\n",
              "      <td>0</td>\n",
              "      <td>0</td>\n",
              "      <td>1</td>\n",
              "      <td>0</td>\n",
              "      <td>0</td>\n",
              "      <td>1</td>\n",
              "      <td>0</td>\n",
              "      <td>0</td>\n",
              "      <td>1</td>\n",
              "    </tr>\n",
              "    <tr>\n",
              "      <th>4</th>\n",
              "      <td>0</td>\n",
              "      <td>0</td>\n",
              "      <td>29</td>\n",
              "      <td>0</td>\n",
              "      <td>0</td>\n",
              "      <td>0</td>\n",
              "      <td>0</td>\n",
              "      <td>0</td>\n",
              "      <td>0</td>\n",
              "      <td>0</td>\n",
              "      <td>0</td>\n",
              "      <td>0</td>\n",
              "      <td>37.00</td>\n",
              "      <td>82.0</td>\n",
              "      <td>111.0</td>\n",
              "      <td>74.0</td>\n",
              "      <td>17</td>\n",
              "      <td>99.0</td>\n",
              "      <td>3.000000</td>\n",
              "      <td>0</td>\n",
              "      <td>0</td>\n",
              "      <td>0</td>\n",
              "      <td>1</td>\n",
              "      <td>1</td>\n",
              "      <td>0</td>\n",
              "      <td>0</td>\n",
              "      <td>0</td>\n",
              "      <td>0</td>\n",
              "      <td>0</td>\n",
              "      <td>0</td>\n",
              "      <td>0</td>\n",
              "      <td>0</td>\n",
              "      <td>0</td>\n",
              "      <td>0</td>\n",
              "      <td>0</td>\n",
              "      <td>0</td>\n",
              "      <td>0</td>\n",
              "      <td>0</td>\n",
              "      <td>1</td>\n",
              "      <td>0</td>\n",
              "      <td>0</td>\n",
              "      <td>1</td>\n",
              "      <td>0</td>\n",
              "      <td>1</td>\n",
              "      <td>0</td>\n",
              "      <td>0</td>\n",
              "      <td>0</td>\n",
              "      <td>0</td>\n",
              "      <td>1</td>\n",
              "      <td>0</td>\n",
              "      <td>0</td>\n",
              "      <td>1</td>\n",
              "      <td>1</td>\n",
              "      <td>0</td>\n",
              "      <td>0</td>\n",
              "    </tr>\n",
              "  </tbody>\n",
              "</table>\n",
              "</div>"
            ],
            "text/plain": [
              "   swab_type  covid19_test_results  ...  wheezes_True  wheezes_nan\n",
              "0          0                     0  ...             0            0\n",
              "1          1                     0  ...             1            0\n",
              "2          0                     0  ...             0            1\n",
              "3          1                     0  ...             0            1\n",
              "4          0                     0  ...             0            0\n",
              "\n",
              "[5 rows x 55 columns]"
            ]
          },
          "metadata": {
            "tags": []
          },
          "execution_count": 4
        }
      ]
    },
    {
      "cell_type": "code",
      "metadata": {
        "id": "jZjx0Ydn670c"
      },
      "source": [
        "# Creating the X and y\n",
        "features = ['age',\n",
        "       'high_risk_exposure_occupation', 'diabetes', 'chd', 'htn', 'cancer',\n",
        "       'asthma', 'copd', 'autoimmune_dis', 'smoker', 'temperature', 'pulse',\n",
        "       'sys', 'dia', 'rr', 'sats', 'days_since_symptom_onset', 'cough', 'sob',\n",
        "       'diarrhea', 'fatigue', 'headache', 'loss_of_smell', 'loss_of_taste',\n",
        "       'runny_nose', 'muscle_sore', 'sore_throat',\n",
        "      'fever2', 'high_risk_interactions_False',\n",
        "       'high_risk_interactions_True', 'high_risk_interactions_nan',\n",
        "       'ctab_False', 'ctab_True', 'ctab_nan', 'labored_respiration_False',\n",
        "       'labored_respiration_True', 'labored_respiration_nan', 'rhonchi_False',\n",
        "       'rhonchi_True', 'rhonchi_nan', 'wheezes_False', 'wheezes_True',\n",
        "       'wheezes_nan']\n",
        "X = df[features]\n",
        "y = df['covid19_test_results']"
      ],
      "execution_count": 118,
      "outputs": []
    },
    {
      "cell_type": "code",
      "metadata": {
        "id": "vdndgPiP7xAN"
      },
      "source": [
        "# Train/ test split\n",
        "X_train, X_test, y_train, y_test = train_test_split(X, y, random_state=42)"
      ],
      "execution_count": 119,
      "outputs": []
    },
    {
      "cell_type": "code",
      "metadata": {
        "colab": {
          "base_uri": "https://localhost:8080/"
        },
        "id": "6Gh-BOqSpO-H",
        "outputId": "fee6d28c-c99b-4927-879b-a5428dc57a4d"
      },
      "source": [
        "# Instanite the Random Over Sampler\n",
        "# Fit X and y to Random Over Sampler\n",
        "ros = RandomOverSampler(random_state=42)\n",
        "X_smote, y_smote = ros.fit_resample(X, y)"
      ],
      "execution_count": 120,
      "outputs": [
        {
          "output_type": "stream",
          "text": [
            "/usr/local/lib/python3.6/dist-packages/sklearn/utils/deprecation.py:87: FutureWarning: Function safe_indexing is deprecated; safe_indexing is deprecated in version 0.22 and will be removed in version 0.24.\n",
            "  warnings.warn(msg, category=FutureWarning)\n"
          ],
          "name": "stderr"
        }
      ]
    },
    {
      "cell_type": "code",
      "metadata": {
        "colab": {
          "base_uri": "https://localhost:8080/"
        },
        "id": "7QVKftJo7zzY",
        "outputId": "43abed43-60ee-41ef-88a3-1d9c885ba254"
      },
      "source": [
        "# Get the baseline\n",
        "y_test.value_counts(normalize=True)"
      ],
      "execution_count": 121,
      "outputs": [
        {
          "output_type": "execute_result",
          "data": {
            "text/plain": [
              "0    0.982064\n",
              "1    0.017936\n",
              "Name: covid19_test_results, dtype: float64"
            ]
          },
          "metadata": {
            "tags": []
          },
          "execution_count": 121
        }
      ]
    },
    {
      "cell_type": "code",
      "metadata": {
        "colab": {
          "base_uri": "https://localhost:8080/"
        },
        "id": "D7virwaY72kO",
        "outputId": "af351325-c85f-4ba3-eef1-b30c1652cc2a"
      },
      "source": [
        "# Fit X and y to SMOTE\n",
        "X_smote, y_smote = SMOTE().fit_resample(X, y)"
      ],
      "execution_count": 122,
      "outputs": [
        {
          "output_type": "stream",
          "text": [
            "/usr/local/lib/python3.6/dist-packages/sklearn/utils/deprecation.py:87: FutureWarning: Function safe_indexing is deprecated; safe_indexing is deprecated in version 0.22 and will be removed in version 0.24.\n",
            "  warnings.warn(msg, category=FutureWarning)\n"
          ],
          "name": "stderr"
        }
      ]
    },
    {
      "cell_type": "code",
      "metadata": {
        "id": "y0NKRsZC8Ra-"
      },
      "source": [
        "# Instantiate the model\n",
        "model = Sequential()\n",
        "\n",
        "model.add(Dense(512, input_shape=(X_smote.shape[1], ), activation='relu'))\n",
        "model.add(Dense(256, activation='relu'))\n",
        "model.add(Dropout(0.5))  \n",
        "model.add(Dense(128, activation='relu'))\n",
        "model.add(Dropout(0.5))\n",
        "model.add(Dense(64, activation='relu'))\n",
        "model.add(Dropout(0.5))\n",
        "model.add(Dense(16, activation='relu')) \n",
        "model.add(Dense(1, activation='sigmoid')) "
      ],
      "execution_count": 127,
      "outputs": []
    },
    {
      "cell_type": "code",
      "metadata": {
        "id": "WQwzp_zi8dl5"
      },
      "source": [
        "# Complie the model\n",
        "model.compile(loss='bce', optimizer='adam', metrics=['acc'])"
      ],
      "execution_count": 128,
      "outputs": []
    },
    {
      "cell_type": "code",
      "metadata": {
        "id": "fjvJx6xQ01_i"
      },
      "source": [
        "# # Add early stopping \n",
        "# early_stop = EarlyStopping(patience=5)"
      ],
      "execution_count": 129,
      "outputs": []
    },
    {
      "cell_type": "code",
      "metadata": {
        "colab": {
          "base_uri": "https://localhost:8080/"
        },
        "id": "qESP95Jg8kFr",
        "outputId": "ee45342d-ae73-437c-c2b1-b7c67ad2c372"
      },
      "source": [
        "# Fit the model to the Random Under Sampler X and y\n",
        "results = model.fit(X_smote, y_smote, \n",
        "                   epochs=100,\n",
        "                   validation_data=(np.asarray(X_test).astype(np.float32), np.asarray(y_test).astype(np.float32)),\n",
        "                   verbose=1, # No output will be printed!\n",
        "                   batch_size=256) #, callbacks=[early_stop]"
      ],
      "execution_count": 131,
      "outputs": [
        {
          "output_type": "stream",
          "text": [
            "Epoch 1/100\n",
            "564/564 [==============================] - 6s 11ms/step - loss: 0.1834 - acc: 0.9315 - val_loss: 0.1108 - val_acc: 0.9818\n",
            "Epoch 2/100\n",
            "564/564 [==============================] - 6s 11ms/step - loss: 0.1757 - acc: 0.9347 - val_loss: 0.1490 - val_acc: 0.9763\n",
            "Epoch 3/100\n",
            "564/564 [==============================] - 6s 11ms/step - loss: 0.1751 - acc: 0.9351 - val_loss: 0.1517 - val_acc: 0.9772\n",
            "Epoch 4/100\n",
            "564/564 [==============================] - 6s 11ms/step - loss: 0.1774 - acc: 0.9344 - val_loss: 0.0946 - val_acc: 0.9821\n",
            "Epoch 5/100\n",
            "564/564 [==============================] - 6s 11ms/step - loss: 0.1752 - acc: 0.9353 - val_loss: 0.1170 - val_acc: 0.9814\n",
            "Epoch 6/100\n",
            "564/564 [==============================] - 6s 11ms/step - loss: 0.1766 - acc: 0.9343 - val_loss: 0.1212 - val_acc: 0.9780\n",
            "Epoch 7/100\n",
            "564/564 [==============================] - 6s 11ms/step - loss: 0.1698 - acc: 0.9378 - val_loss: 0.1129 - val_acc: 0.9808\n",
            "Epoch 8/100\n",
            "564/564 [==============================] - 6s 11ms/step - loss: 0.1711 - acc: 0.9371 - val_loss: 0.0996 - val_acc: 0.9820\n",
            "Epoch 9/100\n",
            "564/564 [==============================] - 6s 11ms/step - loss: 0.1746 - acc: 0.9351 - val_loss: 0.0944 - val_acc: 0.9808\n",
            "Epoch 10/100\n",
            "564/564 [==============================] - 6s 11ms/step - loss: 0.1747 - acc: 0.9349 - val_loss: 0.1143 - val_acc: 0.9804\n",
            "Epoch 11/100\n",
            "564/564 [==============================] - 6s 11ms/step - loss: 0.1772 - acc: 0.9348 - val_loss: 0.0860 - val_acc: 0.9816\n",
            "Epoch 12/100\n",
            "564/564 [==============================] - 6s 11ms/step - loss: 0.1748 - acc: 0.9355 - val_loss: 0.0910 - val_acc: 0.9814\n",
            "Epoch 13/100\n",
            "564/564 [==============================] - 6s 11ms/step - loss: 0.1735 - acc: 0.9365 - val_loss: 0.1034 - val_acc: 0.9818\n",
            "Epoch 14/100\n",
            "564/564 [==============================] - 7s 12ms/step - loss: 0.1713 - acc: 0.9368 - val_loss: 0.1096 - val_acc: 0.9820\n",
            "Epoch 15/100\n",
            "564/564 [==============================] - 6s 11ms/step - loss: 0.1727 - acc: 0.9363 - val_loss: 0.1039 - val_acc: 0.9814\n",
            "Epoch 16/100\n",
            "564/564 [==============================] - 6s 11ms/step - loss: 0.1708 - acc: 0.9377 - val_loss: 0.1033 - val_acc: 0.9800\n",
            "Epoch 17/100\n",
            "564/564 [==============================] - 6s 11ms/step - loss: 0.1745 - acc: 0.9357 - val_loss: 0.1011 - val_acc: 0.9821\n",
            "Epoch 18/100\n",
            "564/564 [==============================] - 6s 11ms/step - loss: 0.1697 - acc: 0.9372 - val_loss: 0.1015 - val_acc: 0.9826\n",
            "Epoch 19/100\n",
            "564/564 [==============================] - 6s 11ms/step - loss: 0.1676 - acc: 0.9385 - val_loss: 0.1351 - val_acc: 0.9780\n",
            "Epoch 20/100\n",
            "564/564 [==============================] - 6s 11ms/step - loss: 0.1703 - acc: 0.9368 - val_loss: 0.1644 - val_acc: 0.9793\n",
            "Epoch 21/100\n",
            "564/564 [==============================] - 6s 11ms/step - loss: 0.1694 - acc: 0.9374 - val_loss: 0.1104 - val_acc: 0.9817\n",
            "Epoch 22/100\n",
            "564/564 [==============================] - 6s 11ms/step - loss: 0.1702 - acc: 0.9374 - val_loss: 0.0960 - val_acc: 0.9815\n",
            "Epoch 23/100\n",
            "564/564 [==============================] - 6s 11ms/step - loss: 0.1659 - acc: 0.9394 - val_loss: 0.1052 - val_acc: 0.9814\n",
            "Epoch 24/100\n",
            "564/564 [==============================] - 6s 11ms/step - loss: 0.1698 - acc: 0.9375 - val_loss: 0.1007 - val_acc: 0.9822\n",
            "Epoch 25/100\n",
            "564/564 [==============================] - 6s 11ms/step - loss: 0.1664 - acc: 0.9381 - val_loss: 0.0959 - val_acc: 0.9820\n",
            "Epoch 26/100\n",
            "564/564 [==============================] - 6s 11ms/step - loss: 0.1682 - acc: 0.9386 - val_loss: 0.0929 - val_acc: 0.9819\n",
            "Epoch 27/100\n",
            "564/564 [==============================] - 6s 11ms/step - loss: 0.1673 - acc: 0.9385 - val_loss: 0.1218 - val_acc: 0.9809\n",
            "Epoch 28/100\n",
            "564/564 [==============================] - 6s 11ms/step - loss: 0.1667 - acc: 0.9389 - val_loss: 0.1029 - val_acc: 0.9802\n",
            "Epoch 29/100\n",
            "564/564 [==============================] - 6s 11ms/step - loss: 0.1657 - acc: 0.9394 - val_loss: 0.0988 - val_acc: 0.9792\n",
            "Epoch 30/100\n",
            "564/564 [==============================] - 6s 11ms/step - loss: 0.1628 - acc: 0.9405 - val_loss: 0.1765 - val_acc: 0.9761\n",
            "Epoch 31/100\n",
            "564/564 [==============================] - 6s 11ms/step - loss: 0.1658 - acc: 0.9394 - val_loss: 0.1162 - val_acc: 0.9805\n",
            "Epoch 32/100\n",
            "564/564 [==============================] - 6s 11ms/step - loss: 0.1690 - acc: 0.9381 - val_loss: 0.0932 - val_acc: 0.9817\n",
            "Epoch 33/100\n",
            "564/564 [==============================] - 6s 11ms/step - loss: 0.1643 - acc: 0.9391 - val_loss: 0.2138 - val_acc: 0.9660\n",
            "Epoch 34/100\n",
            "564/564 [==============================] - 6s 11ms/step - loss: 0.1628 - acc: 0.9405 - val_loss: 0.0947 - val_acc: 0.9814\n",
            "Epoch 35/100\n",
            "564/564 [==============================] - 6s 11ms/step - loss: 0.1632 - acc: 0.9401 - val_loss: 0.1012 - val_acc: 0.9825\n",
            "Epoch 36/100\n",
            "564/564 [==============================] - 6s 11ms/step - loss: 0.1624 - acc: 0.9407 - val_loss: 0.1010 - val_acc: 0.9805\n",
            "Epoch 37/100\n",
            "564/564 [==============================] - 6s 11ms/step - loss: 0.1675 - acc: 0.9381 - val_loss: 0.1164 - val_acc: 0.9822\n",
            "Epoch 38/100\n",
            "564/564 [==============================] - 6s 11ms/step - loss: 0.1631 - acc: 0.9404 - val_loss: 0.1089 - val_acc: 0.9802\n",
            "Epoch 39/100\n",
            "564/564 [==============================] - 6s 11ms/step - loss: 0.1600 - acc: 0.9418 - val_loss: 0.0985 - val_acc: 0.9805\n",
            "Epoch 40/100\n",
            "564/564 [==============================] - 6s 11ms/step - loss: 0.1616 - acc: 0.9406 - val_loss: 0.1043 - val_acc: 0.9805\n",
            "Epoch 41/100\n",
            "564/564 [==============================] - 6s 11ms/step - loss: 0.1622 - acc: 0.9409 - val_loss: 0.1159 - val_acc: 0.9774\n",
            "Epoch 42/100\n",
            "564/564 [==============================] - 6s 11ms/step - loss: 0.1629 - acc: 0.9406 - val_loss: 0.1025 - val_acc: 0.9808\n",
            "Epoch 43/100\n",
            "564/564 [==============================] - 6s 11ms/step - loss: 0.1596 - acc: 0.9413 - val_loss: 0.0963 - val_acc: 0.9823\n",
            "Epoch 44/100\n",
            "564/564 [==============================] - 6s 11ms/step - loss: 0.1662 - acc: 0.9387 - val_loss: 0.1224 - val_acc: 0.9802\n",
            "Epoch 45/100\n",
            "564/564 [==============================] - 6s 11ms/step - loss: 0.1593 - acc: 0.9416 - val_loss: 0.1033 - val_acc: 0.9818\n",
            "Epoch 46/100\n",
            "564/564 [==============================] - 6s 11ms/step - loss: 0.1593 - acc: 0.9423 - val_loss: 0.1042 - val_acc: 0.9815\n",
            "Epoch 47/100\n",
            "564/564 [==============================] - 6s 11ms/step - loss: 0.1672 - acc: 0.9383 - val_loss: 0.1311 - val_acc: 0.9726\n",
            "Epoch 48/100\n",
            "564/564 [==============================] - 6s 11ms/step - loss: 0.1610 - acc: 0.9405 - val_loss: 0.1360 - val_acc: 0.9759\n",
            "Epoch 49/100\n",
            "564/564 [==============================] - 6s 11ms/step - loss: 0.1599 - acc: 0.9409 - val_loss: 0.0974 - val_acc: 0.9818\n",
            "Epoch 50/100\n",
            "564/564 [==============================] - 6s 11ms/step - loss: 0.1622 - acc: 0.9405 - val_loss: 0.1385 - val_acc: 0.9687\n",
            "Epoch 51/100\n",
            "564/564 [==============================] - 6s 11ms/step - loss: 0.1649 - acc: 0.9391 - val_loss: 0.0924 - val_acc: 0.9826\n",
            "Epoch 52/100\n",
            "564/564 [==============================] - 6s 11ms/step - loss: 0.1623 - acc: 0.9407 - val_loss: 0.1082 - val_acc: 0.9814\n",
            "Epoch 53/100\n",
            "564/564 [==============================] - 7s 12ms/step - loss: 0.1644 - acc: 0.9390 - val_loss: 0.1276 - val_acc: 0.9776\n",
            "Epoch 54/100\n",
            "564/564 [==============================] - 6s 11ms/step - loss: 0.1651 - acc: 0.9389 - val_loss: 0.0993 - val_acc: 0.9804\n",
            "Epoch 55/100\n",
            "564/564 [==============================] - 6s 11ms/step - loss: 0.1541 - acc: 0.9442 - val_loss: 0.0969 - val_acc: 0.9819\n",
            "Epoch 56/100\n",
            "564/564 [==============================] - 6s 11ms/step - loss: 0.1584 - acc: 0.9421 - val_loss: 0.1118 - val_acc: 0.9805\n",
            "Epoch 57/100\n",
            "564/564 [==============================] - 6s 11ms/step - loss: 0.1602 - acc: 0.9412 - val_loss: 0.1073 - val_acc: 0.9803\n",
            "Epoch 58/100\n",
            "564/564 [==============================] - 6s 11ms/step - loss: 0.1619 - acc: 0.9404 - val_loss: 0.1223 - val_acc: 0.9797\n",
            "Epoch 59/100\n",
            "564/564 [==============================] - 6s 11ms/step - loss: 0.1641 - acc: 0.9399 - val_loss: 0.1077 - val_acc: 0.9823\n",
            "Epoch 60/100\n",
            "564/564 [==============================] - 6s 11ms/step - loss: 0.1569 - acc: 0.9431 - val_loss: 0.1078 - val_acc: 0.9794\n",
            "Epoch 61/100\n",
            "564/564 [==============================] - 6s 11ms/step - loss: 0.1580 - acc: 0.9417 - val_loss: 0.0823 - val_acc: 0.9826\n",
            "Epoch 62/100\n",
            "564/564 [==============================] - 6s 11ms/step - loss: 0.1637 - acc: 0.9402 - val_loss: 0.1186 - val_acc: 0.9800\n",
            "Epoch 63/100\n",
            "564/564 [==============================] - 6s 11ms/step - loss: 0.1609 - acc: 0.9411 - val_loss: 0.1114 - val_acc: 0.9808\n",
            "Epoch 64/100\n",
            "564/564 [==============================] - 6s 11ms/step - loss: 0.1545 - acc: 0.9441 - val_loss: 0.1034 - val_acc: 0.9823\n",
            "Epoch 65/100\n",
            "564/564 [==============================] - 6s 11ms/step - loss: 0.1551 - acc: 0.9431 - val_loss: 0.1070 - val_acc: 0.9800\n",
            "Epoch 66/100\n",
            "564/564 [==============================] - 6s 11ms/step - loss: 0.1543 - acc: 0.9437 - val_loss: 0.0927 - val_acc: 0.9817\n",
            "Epoch 67/100\n",
            "564/564 [==============================] - 6s 11ms/step - loss: 0.1570 - acc: 0.9425 - val_loss: 0.0903 - val_acc: 0.9823\n",
            "Epoch 68/100\n",
            "564/564 [==============================] - 6s 11ms/step - loss: 0.1603 - acc: 0.9412 - val_loss: 0.1032 - val_acc: 0.9820\n",
            "Epoch 69/100\n",
            "564/564 [==============================] - 6s 11ms/step - loss: 0.1554 - acc: 0.9433 - val_loss: 0.1178 - val_acc: 0.9764\n",
            "Epoch 70/100\n",
            "564/564 [==============================] - 6s 11ms/step - loss: 0.1553 - acc: 0.9435 - val_loss: 0.1131 - val_acc: 0.9791\n",
            "Epoch 71/100\n",
            "564/564 [==============================] - 6s 11ms/step - loss: 0.1508 - acc: 0.9454 - val_loss: 0.0889 - val_acc: 0.9829\n",
            "Epoch 72/100\n",
            "564/564 [==============================] - 6s 11ms/step - loss: 0.1543 - acc: 0.9443 - val_loss: 0.0914 - val_acc: 0.9821\n",
            "Epoch 73/100\n",
            "564/564 [==============================] - 6s 11ms/step - loss: 0.1575 - acc: 0.9421 - val_loss: 0.0806 - val_acc: 0.9830\n",
            "Epoch 74/100\n",
            "564/564 [==============================] - 6s 11ms/step - loss: 0.1541 - acc: 0.9439 - val_loss: 0.1138 - val_acc: 0.9760\n",
            "Epoch 75/100\n",
            "564/564 [==============================] - 6s 11ms/step - loss: 0.1565 - acc: 0.9429 - val_loss: 0.0942 - val_acc: 0.9830\n",
            "Epoch 76/100\n",
            "564/564 [==============================] - 6s 11ms/step - loss: 0.1555 - acc: 0.9438 - val_loss: 0.1101 - val_acc: 0.9782\n",
            "Epoch 77/100\n",
            "564/564 [==============================] - 6s 11ms/step - loss: 0.1510 - acc: 0.9454 - val_loss: 0.0820 - val_acc: 0.9829\n",
            "Epoch 78/100\n",
            "564/564 [==============================] - 6s 11ms/step - loss: 0.1537 - acc: 0.9439 - val_loss: 0.0933 - val_acc: 0.9829\n",
            "Epoch 79/100\n",
            "564/564 [==============================] - 6s 11ms/step - loss: 0.1541 - acc: 0.9439 - val_loss: 0.1017 - val_acc: 0.9834\n",
            "Epoch 80/100\n",
            "564/564 [==============================] - 6s 11ms/step - loss: 0.1562 - acc: 0.9429 - val_loss: 0.1080 - val_acc: 0.9805\n",
            "Epoch 81/100\n",
            "564/564 [==============================] - 6s 11ms/step - loss: 0.1558 - acc: 0.9436 - val_loss: 0.0939 - val_acc: 0.9829\n",
            "Epoch 82/100\n",
            "564/564 [==============================] - 6s 11ms/step - loss: 0.1521 - acc: 0.9448 - val_loss: 0.0989 - val_acc: 0.9817\n",
            "Epoch 83/100\n",
            "564/564 [==============================] - 6s 11ms/step - loss: 0.1562 - acc: 0.9429 - val_loss: 0.1040 - val_acc: 0.9775\n",
            "Epoch 84/100\n",
            "564/564 [==============================] - 6s 11ms/step - loss: 0.1524 - acc: 0.9440 - val_loss: 0.0957 - val_acc: 0.9820\n",
            "Epoch 85/100\n",
            "564/564 [==============================] - 6s 11ms/step - loss: 0.1570 - acc: 0.9428 - val_loss: 0.1796 - val_acc: 0.9633\n",
            "Epoch 86/100\n",
            "564/564 [==============================] - 6s 11ms/step - loss: 0.1617 - acc: 0.9415 - val_loss: 0.1242 - val_acc: 0.9793\n",
            "Epoch 87/100\n",
            "564/564 [==============================] - 6s 11ms/step - loss: 0.1546 - acc: 0.9442 - val_loss: 0.1082 - val_acc: 0.9822\n",
            "Epoch 88/100\n",
            "564/564 [==============================] - 7s 12ms/step - loss: 0.1539 - acc: 0.9440 - val_loss: 0.0942 - val_acc: 0.9813\n",
            "Epoch 89/100\n",
            "564/564 [==============================] - 6s 11ms/step - loss: 0.1500 - acc: 0.9456 - val_loss: 0.1014 - val_acc: 0.9786\n",
            "Epoch 90/100\n",
            "564/564 [==============================] - 6s 11ms/step - loss: 0.1612 - acc: 0.9414 - val_loss: 0.0838 - val_acc: 0.9834\n",
            "Epoch 91/100\n",
            "564/564 [==============================] - 6s 11ms/step - loss: 0.1552 - acc: 0.9436 - val_loss: 0.1013 - val_acc: 0.9822\n",
            "Epoch 92/100\n",
            "564/564 [==============================] - 6s 11ms/step - loss: 0.1537 - acc: 0.9441 - val_loss: 0.1048 - val_acc: 0.9776\n",
            "Epoch 93/100\n",
            "564/564 [==============================] - 6s 11ms/step - loss: 0.1473 - acc: 0.9466 - val_loss: 0.0874 - val_acc: 0.9831\n",
            "Epoch 94/100\n",
            "564/564 [==============================] - 6s 11ms/step - loss: 0.1574 - acc: 0.9421 - val_loss: 0.0938 - val_acc: 0.9822\n",
            "Epoch 95/100\n",
            "564/564 [==============================] - 6s 11ms/step - loss: 0.1493 - acc: 0.9452 - val_loss: 0.1021 - val_acc: 0.9796\n",
            "Epoch 96/100\n",
            "564/564 [==============================] - 6s 11ms/step - loss: 0.1462 - acc: 0.9466 - val_loss: 0.0930 - val_acc: 0.9824\n",
            "Epoch 97/100\n",
            "564/564 [==============================] - 6s 11ms/step - loss: 0.1487 - acc: 0.9458 - val_loss: 0.1071 - val_acc: 0.9805\n",
            "Epoch 98/100\n",
            "564/564 [==============================] - 6s 11ms/step - loss: 0.1537 - acc: 0.9438 - val_loss: 0.0966 - val_acc: 0.9825\n",
            "Epoch 99/100\n",
            "564/564 [==============================] - 6s 11ms/step - loss: 0.1471 - acc: 0.9470 - val_loss: 0.0838 - val_acc: 0.9833\n",
            "Epoch 100/100\n",
            "564/564 [==============================] - 6s 11ms/step - loss: 0.1471 - acc: 0.9468 - val_loss: 0.0824 - val_acc: 0.9834\n"
          ],
          "name": "stdout"
        }
      ]
    },
    {
      "cell_type": "code",
      "metadata": {
        "colab": {
          "base_uri": "https://localhost:8080/"
        },
        "id": "nYEbjOCr8gpu",
        "outputId": "ada97673-b084-47a8-913a-9a60a2582d13"
      },
      "source": [
        "# Check the MSE on the testing data\n",
        "model.evaluate(np.asarray(X_test).astype(np.float32), np.asarray(y_test).astype(np.float32))"
      ],
      "execution_count": 132,
      "outputs": [
        {
          "output_type": "stream",
          "text": [
            "574/574 [==============================] - 1s 1ms/step - loss: 0.0824 - acc: 0.9834\n"
          ],
          "name": "stdout"
        },
        {
          "output_type": "execute_result",
          "data": {
            "text/plain": [
              "[0.08241374790668488, 0.9833723902702332]"
            ]
          },
          "metadata": {
            "tags": []
          },
          "execution_count": 132
        }
      ]
    },
    {
      "cell_type": "code",
      "metadata": {
        "colab": {
          "base_uri": "https://localhost:8080/"
        },
        "id": "nxxsmH4vbPgX",
        "outputId": "494bb749-c145-46f8-b7bb-1a3ace24aeff"
      },
      "source": [
        "# Prediciting the X_test and creating y_pred\n",
        "y_pred = model.predict_classes(np.asarray(X_test))"
      ],
      "execution_count": 133,
      "outputs": [
        {
          "output_type": "stream",
          "text": [
            "/usr/local/lib/python3.6/dist-packages/tensorflow/python/keras/engine/sequential.py:450: UserWarning: `model.predict_classes()` is deprecated and will be removed after 2021-01-01. Please use instead:* `np.argmax(model.predict(x), axis=-1)`,   if your model does multi-class classification   (e.g. if it uses a `softmax` last-layer activation).* `(model.predict(x) > 0.5).astype(\"int32\")`,   if your model does binary classification   (e.g. if it uses a `sigmoid` last-layer activation).\n",
            "  warnings.warn('`model.predict_classes()` is deprecated and '\n"
          ],
          "name": "stderr"
        }
      ]
    },
    {
      "cell_type": "code",
      "metadata": {
        "id": "jEniCwXBbPYg"
      },
      "source": [
        "# Creating y_true from y_test \n",
        "y_true=np.asarray(y_test)"
      ],
      "execution_count": 134,
      "outputs": []
    },
    {
      "cell_type": "code",
      "metadata": {
        "colab": {
          "base_uri": "https://localhost:8080/"
        },
        "id": "P7LtEyKRbPQ3",
        "outputId": "8a138b43-02ae-4194-84ba-e13d8dc17912"
      },
      "source": [
        "# Looking at the confusion matrix \n",
        "print(confusion_matrix(y_true,y_pred))"
      ],
      "execution_count": 135,
      "outputs": [
        {
          "output_type": "stream",
          "text": [
            "[[17972    42]\n",
            " [  263    66]]\n"
          ],
          "name": "stdout"
        }
      ]
    },
    {
      "cell_type": "code",
      "metadata": {
        "id": "1Y-9er9HlB-_"
      },
      "source": [
        "# Unraveling the confusion matrix \n",
        "tn, fp, fn, tp = confusion_matrix(y_true,y_pred).ravel()"
      ],
      "execution_count": 136,
      "outputs": []
    },
    {
      "cell_type": "code",
      "metadata": {
        "colab": {
          "base_uri": "https://localhost:8080/"
        },
        "id": "zwRkdm6xrMQe",
        "outputId": "43afbe5a-1b33-44d6-8df8-9b1f36c90ca1"
      },
      "source": [
        "# True negative\n",
        "tn"
      ],
      "execution_count": 137,
      "outputs": [
        {
          "output_type": "execute_result",
          "data": {
            "text/plain": [
              "17972"
            ]
          },
          "metadata": {
            "tags": []
          },
          "execution_count": 137
        }
      ]
    },
    {
      "cell_type": "code",
      "metadata": {
        "colab": {
          "base_uri": "https://localhost:8080/"
        },
        "id": "ZcYUMFJfrMGO",
        "outputId": "630a98ce-4b67-4790-cb7f-73d22d649420"
      },
      "source": [
        "# False positive \n",
        "fp"
      ],
      "execution_count": 138,
      "outputs": [
        {
          "output_type": "execute_result",
          "data": {
            "text/plain": [
              "42"
            ]
          },
          "metadata": {
            "tags": []
          },
          "execution_count": 138
        }
      ]
    },
    {
      "cell_type": "code",
      "metadata": {
        "colab": {
          "base_uri": "https://localhost:8080/"
        },
        "id": "yaE72LycrL_r",
        "outputId": "88c9427e-5f89-4b72-8667-1a3b75f6613a"
      },
      "source": [
        "# False negative \n",
        "fn"
      ],
      "execution_count": 139,
      "outputs": [
        {
          "output_type": "execute_result",
          "data": {
            "text/plain": [
              "263"
            ]
          },
          "metadata": {
            "tags": []
          },
          "execution_count": 139
        }
      ]
    },
    {
      "cell_type": "code",
      "metadata": {
        "colab": {
          "base_uri": "https://localhost:8080/"
        },
        "id": "8oie8FKYrL03",
        "outputId": "c96447c5-9609-4517-cb54-2dfb6177b204"
      },
      "source": [
        "# True positive\n",
        "tp"
      ],
      "execution_count": 140,
      "outputs": [
        {
          "output_type": "execute_result",
          "data": {
            "text/plain": [
              "66"
            ]
          },
          "metadata": {
            "tags": []
          },
          "execution_count": 140
        }
      ]
    },
    {
      "cell_type": "code",
      "metadata": {
        "colab": {
          "base_uri": "https://localhost:8080/"
        },
        "id": "CGdJHG2bbPHa",
        "outputId": "8a84d2bc-2039-4c07-e1e9-8bd661f9f314"
      },
      "source": [
        "# Recall score \n",
        "metrics.recall_score(y_true=y_true, y_pred=y_pred)"
      ],
      "execution_count": 141,
      "outputs": [
        {
          "output_type": "execute_result",
          "data": {
            "text/plain": [
              "0.2006079027355623"
            ]
          },
          "metadata": {
            "tags": []
          },
          "execution_count": 141
        }
      ]
    },
    {
      "cell_type": "code",
      "metadata": {
        "colab": {
          "base_uri": "https://localhost:8080/"
        },
        "id": "EkGtNGVNemfJ",
        "outputId": "d53801e9-e8a8-4fda-bfde-09763386d08a"
      },
      "source": [
        "# F1- score \n",
        "metrics.f1_score(y_true=y_true, y_pred=y_pred)"
      ],
      "execution_count": 142,
      "outputs": [
        {
          "output_type": "execute_result",
          "data": {
            "text/plain": [
              "0.30205949656750575"
            ]
          },
          "metadata": {
            "tags": []
          },
          "execution_count": 142
        }
      ]
    },
    {
      "cell_type": "code",
      "metadata": {
        "colab": {
          "base_uri": "https://localhost:8080/"
        },
        "id": "v9PQPH_ztOuW",
        "outputId": "e9bd9212-5833-4ae6-b119-5cab8051f64f"
      },
      "source": [
        "# Precision score \n",
        "metrics.precision_score(y_true=y_true, y_pred=y_pred)"
      ],
      "execution_count": 143,
      "outputs": [
        {
          "output_type": "execute_result",
          "data": {
            "text/plain": [
              "0.6111111111111112"
            ]
          },
          "metadata": {
            "tags": []
          },
          "execution_count": 143
        }
      ]
    },
    {
      "cell_type": "code",
      "metadata": {
        "colab": {
          "base_uri": "https://localhost:8080/"
        },
        "id": "dDZ5HozV8qkH",
        "outputId": "93b2c5bd-547a-4f83-da14-66f4cda3f350"
      },
      "source": [
        "# Looking at the results dictionary \n",
        "results.history.keys()"
      ],
      "execution_count": 144,
      "outputs": [
        {
          "output_type": "execute_result",
          "data": {
            "text/plain": [
              "dict_keys(['loss', 'acc', 'val_loss', 'val_acc'])"
            ]
          },
          "metadata": {
            "tags": []
          },
          "execution_count": 144
        }
      ]
    },
    {
      "cell_type": "code",
      "metadata": {
        "colab": {
          "base_uri": "https://localhost:8080/",
          "height": 483
        },
        "id": "W_kb0Kui8r6E",
        "outputId": "44575a0c-d2e6-4b99-9f6c-622b3cf2a51d"
      },
      "source": [
        "# Graphing the Loss and Accuracy from the results \n",
        "train_loss = results.history['loss']\n",
        "test_loss = results.history['val_loss']\n",
        "train_acc = results.history['acc']\n",
        "test_acc = results.history['val_acc']\n",
        "\n",
        "plt.figure(figsize=(12, 8))\n",
        "plt.plot(train_loss, label='Training loss', color='navy')\n",
        "plt.plot(test_loss, label='Testing loss', color='skyblue')\n",
        "plt.plot(train_acc, label='Training acc')\n",
        "plt.plot(test_acc, label='Testing acc')\n",
        "plt.legend();\n"
      ],
      "execution_count": 145,
      "outputs": [
        {
          "output_type": "display_data",
          "data": {
            "image/png": "[encoded data removed]",
            "text/plain": [
              "<Figure size 864x576 with 1 Axes>"
            ]
          },
          "metadata": {
            "tags": [],
            "needs_background": "light"
          }
        }
      ]
    },
    {
      "cell_type": "code",
      "metadata": {
        "id": "ZVvLx49c88c1"
      },
      "source": [
        ""
      ],
      "execution_count": 104,
      "outputs": []
    }
  ]
}