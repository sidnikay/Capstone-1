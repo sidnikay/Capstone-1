{
 "cells": [
  {
   "cell_type": "code",
   "execution_count": 1,
   "metadata": {},
   "outputs": [],
   "source": [
    "import pandas as pd\n",
    "import glob\n",
    "import seaborn as sns\n",
    "import numpy as np\n",
    "import matplotlib.pyplot as plt"
   ]
  },
  {
   "cell_type": "code",
   "execution_count": 2,
   "metadata": {},
   "outputs": [],
   "source": [
    "# importing the Dataframe\n",
    "\n",
    "local_path = r'./data/covidclinicaldata-master/data/'\n",
    "\n",
    "filenames = glob.glob(local_path + \"/*.csv\")\n",
    "\n",
    "dfs = [pd.read_csv(filename) for filename in filenames]"
   ]
  },
  {
   "cell_type": "code",
   "execution_count": 3,
   "metadata": {},
   "outputs": [],
   "source": [
    "# putting together the all the dataframes\n",
    "\n",
    "df = pd.concat(dfs, ignore_index=True)"
   ]
  },
  {
   "cell_type": "code",
   "execution_count": 4,
   "metadata": {},
   "outputs": [
    {
     "data": {
      "text/plain": [
       "Index(['batch_date', 'test_name', 'swab_type', 'covid19_test_results', 'age',\n",
       "       'high_risk_exposure_occupation', 'high_risk_interactions', 'diabetes',\n",
       "       'chd', 'htn', 'cancer', 'asthma', 'copd', 'autoimmune_dis', 'smoker',\n",
       "       'temperature', 'pulse', 'sys', 'dia', 'rr', 'sats', 'rapid_flu_results',\n",
       "       'rapid_strep_results', 'ctab', 'labored_respiration', 'rhonchi',\n",
       "       'wheezes', 'days_since_symptom_onset', 'cough', 'cough_severity',\n",
       "       'fever', 'sob', 'sob_severity', 'diarrhea', 'fatigue', 'headache',\n",
       "       'loss_of_smell', 'loss_of_taste', 'runny_nose', 'muscle_sore',\n",
       "       'sore_throat', 'cxr_findings', 'cxr_impression', 'cxr_label',\n",
       "       'cxr_link', 'er_referral'],\n",
       "      dtype='object')"
      ]
     },
     "execution_count": 4,
     "metadata": {},
     "output_type": "execute_result"
    }
   ],
   "source": [
    "# looking at the columns \n",
    "\n",
    "df.columns"
   ]
  },
  {
   "cell_type": "code",
   "execution_count": 5,
   "metadata": {},
   "outputs": [
    {
     "data": {
      "text/plain": [
       "(93995, 46)"
      ]
     },
     "execution_count": 5,
     "metadata": {},
     "output_type": "execute_result"
    }
   ],
   "source": [
    "# checking the shape\n",
    "\n",
    "df.shape"
   ]
  },
  {
   "cell_type": "code",
   "execution_count": 6,
   "metadata": {},
   "outputs": [
    {
     "name": "stdout",
     "output_type": "stream",
     "text": [
      "<class 'pandas.core.frame.DataFrame'>\n",
      "RangeIndex: 93995 entries, 0 to 93994\n",
      "Data columns (total 46 columns):\n",
      " #   Column                         Non-Null Count  Dtype  \n",
      "---  ------                         --------------  -----  \n",
      " 0   batch_date                     93995 non-null  object \n",
      " 1   test_name                      93995 non-null  object \n",
      " 2   swab_type                      93995 non-null  object \n",
      " 3   covid19_test_results           93995 non-null  object \n",
      " 4   age                            93995 non-null  int64  \n",
      " 5   high_risk_exposure_occupation  93826 non-null  object \n",
      " 6   high_risk_interactions         69168 non-null  object \n",
      " 7   diabetes                       93995 non-null  bool   \n",
      " 8   chd                            93995 non-null  bool   \n",
      " 9   htn                            93995 non-null  bool   \n",
      " 10  cancer                         93995 non-null  bool   \n",
      " 11  asthma                         93995 non-null  bool   \n",
      " 12  copd                           93995 non-null  bool   \n",
      " 13  autoimmune_dis                 93995 non-null  bool   \n",
      " 14  smoker                         93995 non-null  bool   \n",
      " 15  temperature                    47542 non-null  float64\n",
      " 16  pulse                          48279 non-null  float64\n",
      " 17  sys                            46523 non-null  float64\n",
      " 18  dia                            46523 non-null  float64\n",
      " 19  rr                             41448 non-null  float64\n",
      " 20  sats                           47535 non-null  float64\n",
      " 21  rapid_flu_results              254 non-null    object \n",
      " 22  rapid_strep_results            391 non-null    object \n",
      " 23  ctab                           35467 non-null  object \n",
      " 24  labored_respiration            48747 non-null  object \n",
      " 25  rhonchi                        23344 non-null  object \n",
      " 26  wheezes                        27488 non-null  object \n",
      " 27  days_since_symptom_onset       15865 non-null  float64\n",
      " 28  cough                          93980 non-null  object \n",
      " 29  cough_severity                 5711 non-null   object \n",
      " 30  fever                          71074 non-null  object \n",
      " 31  sob                            93789 non-null  object \n",
      " 32  sob_severity                   2836 non-null   object \n",
      " 33  diarrhea                       93808 non-null  object \n",
      " 34  fatigue                        93819 non-null  object \n",
      " 35  headache                       93812 non-null  object \n",
      " 36  loss_of_smell                  93805 non-null  object \n",
      " 37  loss_of_taste                  93805 non-null  object \n",
      " 38  runny_nose                     93808 non-null  object \n",
      " 39  muscle_sore                    93813 non-null  object \n",
      " 40  sore_throat                    93812 non-null  object \n",
      " 41  cxr_findings                   689 non-null    object \n",
      " 42  cxr_impression                 689 non-null    object \n",
      " 43  cxr_label                      689 non-null    object \n",
      " 44  cxr_link                       689 non-null    object \n",
      " 45  er_referral                    11169 non-null  object \n",
      "dtypes: bool(8), float64(7), int64(1), object(30)\n",
      "memory usage: 28.0+ MB\n"
     ]
    }
   ],
   "source": [
    "# checking the all the information\n",
    "\n",
    "df.info()"
   ]
  },
  {
   "cell_type": "code",
   "execution_count": 7,
   "metadata": {},
   "outputs": [
    {
     "data": {
      "text/plain": [
       "batch_date                           0\n",
       "test_name                            0\n",
       "swab_type                            0\n",
       "covid19_test_results                 0\n",
       "age                                  0\n",
       "high_risk_exposure_occupation      169\n",
       "high_risk_interactions           24827\n",
       "diabetes                             0\n",
       "chd                                  0\n",
       "htn                                  0\n",
       "cancer                               0\n",
       "asthma                               0\n",
       "copd                                 0\n",
       "autoimmune_dis                       0\n",
       "smoker                               0\n",
       "temperature                      46453\n",
       "pulse                            45716\n",
       "sys                              47472\n",
       "dia                              47472\n",
       "rr                               52547\n",
       "sats                             46460\n",
       "rapid_flu_results                93741\n",
       "rapid_strep_results              93604\n",
       "ctab                             58528\n",
       "labored_respiration              45248\n",
       "rhonchi                          70651\n",
       "wheezes                          66507\n",
       "days_since_symptom_onset         78130\n",
       "cough                               15\n",
       "cough_severity                   88284\n",
       "fever                            22921\n",
       "sob                                206\n",
       "sob_severity                     91159\n",
       "diarrhea                           187\n",
       "fatigue                            176\n",
       "headache                           183\n",
       "loss_of_smell                      190\n",
       "loss_of_taste                      190\n",
       "runny_nose                         187\n",
       "muscle_sore                        182\n",
       "sore_throat                        183\n",
       "cxr_findings                     93306\n",
       "cxr_impression                   93306\n",
       "cxr_label                        93306\n",
       "cxr_link                         93306\n",
       "er_referral                      82826\n",
       "dtype: int64"
      ]
     },
     "execution_count": 7,
     "metadata": {},
     "output_type": "execute_result"
    }
   ],
   "source": [
    "# checking the null status \n",
    "\n",
    "df.isnull().sum()"
   ]
  },
  {
   "cell_type": "code",
   "execution_count": 8,
   "metadata": {},
   "outputs": [
    {
     "data": {
      "text/plain": [
       "count    47542.000000\n",
       "mean        36.794765\n",
       "std          0.289229\n",
       "min         33.500000\n",
       "25%         36.650000\n",
       "50%         36.800000\n",
       "75%         36.950000\n",
       "max         39.600000\n",
       "Name: temperature, dtype: float64"
      ]
     },
     "execution_count": 8,
     "metadata": {},
     "output_type": "execute_result"
    }
   ],
   "source": [
    "# looking at the different value types\n",
    "\n",
    "df['temperature'].describe()"
   ]
  },
  {
   "cell_type": "code",
   "execution_count": 9,
   "metadata": {},
   "outputs": [],
   "source": [
    "# filling NAs with Median\n",
    "\n",
    "df['temperature']= df['temperature'].fillna(36.800000)"
   ]
  },
  {
   "cell_type": "code",
   "execution_count": 10,
   "metadata": {},
   "outputs": [
    {
     "data": {
      "text/plain": [
       "count    48279.000000\n",
       "mean        76.933677\n",
       "std         13.238270\n",
       "min         35.000000\n",
       "25%         68.000000\n",
       "50%         76.000000\n",
       "75%         85.000000\n",
       "max        160.000000\n",
       "Name: pulse, dtype: float64"
      ]
     },
     "execution_count": 10,
     "metadata": {},
     "output_type": "execute_result"
    }
   ],
   "source": [
    "# looking at the different value types\n",
    "\n",
    "df['pulse'].describe()"
   ]
  },
  {
   "cell_type": "code",
   "execution_count": 11,
   "metadata": {},
   "outputs": [],
   "source": [
    "# filling NAs with Mean\n",
    "\n",
    "df['pulse'] = df['pulse'].fillna(76.933677)"
   ]
  },
  {
   "cell_type": "code",
   "execution_count": 12,
   "metadata": {},
   "outputs": [
    {
     "data": {
      "text/plain": [
       "count    46523.000000\n",
       "mean       123.149045\n",
       "std         16.113033\n",
       "min         50.000000\n",
       "25%        112.000000\n",
       "50%        121.000000\n",
       "75%        132.000000\n",
       "max        235.000000\n",
       "Name: sys, dtype: float64"
      ]
     },
     "execution_count": 12,
     "metadata": {},
     "output_type": "execute_result"
    }
   ],
   "source": [
    "# looking at the different value types\n",
    "\n",
    "df['sys'].describe()"
   ]
  },
  {
   "cell_type": "code",
   "execution_count": 13,
   "metadata": {},
   "outputs": [],
   "source": [
    "# filling NAs with Mean\n",
    "\n",
    "df['sys'] = df['sys'].fillna(123.149045)"
   ]
  },
  {
   "cell_type": "code",
   "execution_count": 14,
   "metadata": {},
   "outputs": [
    {
     "data": {
      "text/plain": [
       "count    46523.000000\n",
       "mean        78.297079\n",
       "std          9.464313\n",
       "min         15.000000\n",
       "25%         72.000000\n",
       "50%         78.000000\n",
       "75%         84.000000\n",
       "max        150.000000\n",
       "Name: dia, dtype: float64"
      ]
     },
     "execution_count": 14,
     "metadata": {},
     "output_type": "execute_result"
    }
   ],
   "source": [
    "# looking at the different value types\n",
    "\n",
    "df['dia'].describe()"
   ]
  },
  {
   "cell_type": "code",
   "execution_count": 15,
   "metadata": {},
   "outputs": [],
   "source": [
    "# filling NAs with Mean\n",
    "\n",
    "df['dia'] = df['dia'].fillna(78.295401)"
   ]
  },
  {
   "cell_type": "code",
   "execution_count": 16,
   "metadata": {},
   "outputs": [
    {
     "data": {
      "text/plain": [
       "count    41448.000000\n",
       "mean        14.710601\n",
       "std          1.971628\n",
       "min          0.000000\n",
       "25%         13.000000\n",
       "50%         15.000000\n",
       "75%         16.000000\n",
       "max         40.000000\n",
       "Name: rr, dtype: float64"
      ]
     },
     "execution_count": 16,
     "metadata": {},
     "output_type": "execute_result"
    }
   ],
   "source": [
    "# looking at the different value types\n",
    "\n",
    "df['rr'].describe()"
   ]
  },
  {
   "cell_type": "code",
   "execution_count": 17,
   "metadata": {},
   "outputs": [],
   "source": [
    "# filling NAs with Median\n",
    "\n",
    "df['rr'] =df['rr'].fillna(15.000000)"
   ]
  },
  {
   "cell_type": "code",
   "execution_count": 18,
   "metadata": {},
   "outputs": [
    {
     "data": {
      "text/plain": [
       "count    47535.000000\n",
       "mean        98.238224\n",
       "std          1.423986\n",
       "min         55.000000\n",
       "25%         97.000000\n",
       "50%         98.000000\n",
       "75%         99.000000\n",
       "max        100.000000\n",
       "Name: sats, dtype: float64"
      ]
     },
     "execution_count": 18,
     "metadata": {},
     "output_type": "execute_result"
    }
   ],
   "source": [
    "# looking at the different value types\n",
    "\n",
    "df['sats'].describe()"
   ]
  },
  {
   "cell_type": "code",
   "execution_count": 19,
   "metadata": {},
   "outputs": [],
   "source": [
    "# filling NAs with Mean\n",
    "\n",
    "df['sats'] = df['sats'].fillna(98.238224)"
   ]
  },
  {
   "cell_type": "code",
   "execution_count": 20,
   "metadata": {},
   "outputs": [
    {
     "data": {
      "text/plain": [
       "count    15865.000000\n",
       "mean         7.063914\n",
       "std         17.232417\n",
       "min          1.000000\n",
       "25%          2.000000\n",
       "50%          3.000000\n",
       "75%          7.000000\n",
       "max        300.000000\n",
       "Name: days_since_symptom_onset, dtype: float64"
      ]
     },
     "execution_count": 20,
     "metadata": {},
     "output_type": "execute_result"
    }
   ],
   "source": [
    "# looking at the different value types\n",
    "\n",
    "df['days_since_symptom_onset'].describe()"
   ]
  },
  {
   "cell_type": "code",
   "execution_count": 21,
   "metadata": {},
   "outputs": [
    {
     "data": {
      "text/plain": [
       "(93995, 46)"
      ]
     },
     "execution_count": 21,
     "metadata": {},
     "output_type": "execute_result"
    }
   ],
   "source": [
    "# checking the shape \n",
    "\n",
    "df.shape"
   ]
  },
  {
   "cell_type": "code",
   "execution_count": 22,
   "metadata": {},
   "outputs": [],
   "source": [
    "# filling NAs with Mean\n",
    "\n",
    "df['days_since_symptom_onset'] = df['days_since_symptom_onset'].fillna(7.063914)"
   ]
  },
  {
   "cell_type": "code",
   "execution_count": 23,
   "metadata": {},
   "outputs": [
    {
     "data": {
      "text/plain": [
       "SARS-CoV-2, NAA                                           48932\n",
       "Rapid COVID-19 PCR Test                                   26805\n",
       "SARS COV2 NAAT                                             6365\n",
       "COVID-19 PCR External Result                               5998\n",
       "Rapid COVID-19 Test                                        3714\n",
       "COVID-19 Vitagene At Home Test Kit                          839\n",
       "SARS-CoV-2 (COVID-19) by NAAT/RT-PCR/TMA, Unknown Risk      590\n",
       "SARS CoV w/CoV 2 RNA                                        396\n",
       "SARS COV 2 RNA RTPCR                                        354\n",
       "SARS-CoV-2 (COVID-19) by NAAT/RT-PCR/TMA, High Risk           1\n",
       "COVID-19 PCR Test (Curative)                                  1\n",
       "Name: test_name, dtype: int64"
      ]
     },
     "execution_count": 23,
     "metadata": {},
     "output_type": "execute_result"
    }
   ],
   "source": [
    "# looking at the different value types\n",
    "\n",
    "df['test_name'].value_counts()"
   ]
  },
  {
   "cell_type": "code",
   "execution_count": 24,
   "metadata": {},
   "outputs": [],
   "source": [
    "# dummynig the test names\n",
    "\n",
    "df = pd.get_dummies(data=df, columns = ['test_name'], drop_first=True)"
   ]
  },
  {
   "cell_type": "code",
   "execution_count": 25,
   "metadata": {},
   "outputs": [
    {
     "data": {
      "text/plain": [
       "(93995, 55)"
      ]
     },
     "execution_count": 25,
     "metadata": {},
     "output_type": "execute_result"
    }
   ],
   "source": [
    "# checking the shape\n",
    "\n",
    "df.shape"
   ]
  },
  {
   "cell_type": "code",
   "execution_count": 26,
   "metadata": {},
   "outputs": [
    {
     "data": {
      "text/plain": [
       "Negative    92682\n",
       "Positive     1313\n",
       "Name: covid19_test_results, dtype: int64"
      ]
     },
     "execution_count": 26,
     "metadata": {},
     "output_type": "execute_result"
    }
   ],
   "source": [
    "# looking at the different value types\n",
    "\n",
    "df['covid19_test_results'].value_counts()"
   ]
  },
  {
   "cell_type": "code",
   "execution_count": 27,
   "metadata": {},
   "outputs": [],
   "source": [
    "# mapping the value types\n",
    "\n",
    "df['covid19_test_results'] = df['covid19_test_results'].map({'Negative': 0, 'Positive': 1})"
   ]
  },
  {
   "cell_type": "code",
   "execution_count": 28,
   "metadata": {},
   "outputs": [
    {
     "data": {
      "text/plain": [
       "Nasal              77732\n",
       "Nasopharyngeal      9169\n",
       "Mid Turbinate       5673\n",
       "Saliva               853\n",
       "Oropharyngeal        474\n",
       "anterior nares        58\n",
       "Anterior nares        24\n",
       "XRT                    1\n",
       "ANTERIOR NARES         1\n",
       "mid turbinate          1\n",
       "anterior nasl          1\n",
       "anterior mares         1\n",
       "anterior naal          1\n",
       "anterior               1\n",
       "Anterior nares         1\n",
       "anterior narws         1\n",
       "anterior nars          1\n",
       "anterior               1\n",
       "anterior nassal        1\n",
       "Name: swab_type, dtype: int64"
      ]
     },
     "execution_count": 28,
     "metadata": {},
     "output_type": "execute_result"
    }
   ],
   "source": [
    "# looking at the different value types\n",
    "\n",
    "df['swab_type'].value_counts()"
   ]
  },
  {
   "cell_type": "code",
   "execution_count": 29,
   "metadata": {},
   "outputs": [],
   "source": [
    "# mapping the value types\n",
    "\n",
    "df['swab_type'] = df['swab_type'].map({'Nasal': 0, 'Nasopharyngeal': 1, 'Oropharyngeal': 2, 'Mid Turbinate': 3, 'Saliva': 4, 'XRT': 5, \n",
    "                                       'anterior nares':6, 'Anterior nares': 6, 'anterior naal': 6, 'anterior nars': 6,\n",
    "                                      'anterior': 6, 'anterior': 6, 'anterior mares': 6, 'anterior narws': 6, 'anterior nassal': 6,\n",
    "                                      'anterior nasl': 6, 'Anterior nares': 6, 'ANTERIOR NARES': 6, 'mid turbinate': 3})"
   ]
  },
  {
   "cell_type": "code",
   "execution_count": 30,
   "metadata": {},
   "outputs": [
    {
     "data": {
      "text/plain": [
       "0.0    77732\n",
       "1.0     9169\n",
       "3.0     5674\n",
       "4.0      853\n",
       "2.0      474\n",
       "6.0       90\n",
       "Name: swab_type, dtype: int64"
      ]
     },
     "execution_count": 30,
     "metadata": {},
     "output_type": "execute_result"
    }
   ],
   "source": [
    "# checking the value counts of Swab type\n",
    "\n",
    "df['swab_type'].value_counts()"
   ]
  },
  {
   "cell_type": "code",
   "execution_count": 31,
   "metadata": {},
   "outputs": [
    {
     "data": {
      "text/plain": [
       "batch_date                                                              0\n",
       "swab_type                                                               3\n",
       "covid19_test_results                                                    0\n",
       "age                                                                     0\n",
       "high_risk_exposure_occupation                                         169\n",
       "high_risk_interactions                                              24827\n",
       "diabetes                                                                0\n",
       "chd                                                                     0\n",
       "htn                                                                     0\n",
       "cancer                                                                  0\n",
       "asthma                                                                  0\n",
       "copd                                                                    0\n",
       "autoimmune_dis                                                          0\n",
       "smoker                                                                  0\n",
       "temperature                                                             0\n",
       "pulse                                                                   0\n",
       "sys                                                                     0\n",
       "dia                                                                     0\n",
       "rr                                                                      0\n",
       "sats                                                                    0\n",
       "rapid_flu_results                                                   93741\n",
       "rapid_strep_results                                                 93604\n",
       "ctab                                                                58528\n",
       "labored_respiration                                                 45248\n",
       "rhonchi                                                             70651\n",
       "wheezes                                                             66507\n",
       "days_since_symptom_onset                                                0\n",
       "cough                                                                  15\n",
       "cough_severity                                                      88284\n",
       "fever                                                               22921\n",
       "sob                                                                   206\n",
       "sob_severity                                                        91159\n",
       "diarrhea                                                              187\n",
       "fatigue                                                               176\n",
       "headache                                                              183\n",
       "loss_of_smell                                                         190\n",
       "loss_of_taste                                                         190\n",
       "runny_nose                                                            187\n",
       "muscle_sore                                                           182\n",
       "sore_throat                                                           183\n",
       "cxr_findings                                                        93306\n",
       "cxr_impression                                                      93306\n",
       "cxr_label                                                           93306\n",
       "cxr_link                                                            93306\n",
       "er_referral                                                         82826\n",
       "test_name_COVID-19 PCR Test (Curative)                                  0\n",
       "test_name_COVID-19 Vitagene At Home Test Kit                            0\n",
       "test_name_Rapid COVID-19 PCR Test                                       0\n",
       "test_name_Rapid COVID-19 Test                                           0\n",
       "test_name_SARS COV 2 RNA RTPCR                                          0\n",
       "test_name_SARS COV2 NAAT                                                0\n",
       "test_name_SARS CoV w/CoV 2 RNA                                          0\n",
       "test_name_SARS-CoV-2 (COVID-19) by NAAT/RT-PCR/TMA, High Risk           0\n",
       "test_name_SARS-CoV-2 (COVID-19) by NAAT/RT-PCR/TMA, Unknown Risk        0\n",
       "test_name_SARS-CoV-2, NAA                                               0\n",
       "dtype: int64"
      ]
     },
     "execution_count": 31,
     "metadata": {},
     "output_type": "execute_result"
    }
   ],
   "source": [
    "# checking the null status \n",
    "\n",
    "df.isnull().sum()"
   ]
  },
  {
   "cell_type": "code",
   "execution_count": 32,
   "metadata": {},
   "outputs": [],
   "source": [
    "# creating a new fever column based off temperature\n",
    "\n",
    "\n",
    "new_fever = []\n",
    "for i in df['temperature']:\n",
    "    if i > 37:\n",
    "        new_fever.append(True)\n",
    "    else:\n",
    "        new_fever.append(False)\n",
    "df['fever2'] = new_fever           "
   ]
  },
  {
   "cell_type": "code",
   "execution_count": 33,
   "metadata": {},
   "outputs": [
    {
     "data": {
      "text/plain": [
       "0    False\n",
       "1    False\n",
       "2    False\n",
       "3    False\n",
       "4    False\n",
       "Name: fever2, dtype: bool"
      ]
     },
     "execution_count": 33,
     "metadata": {},
     "output_type": "execute_result"
    }
   ],
   "source": [
    "# looking at the new column I just created\n",
    "\n",
    "df['fever2'].head()"
   ]
  },
  {
   "cell_type": "code",
   "execution_count": 34,
   "metadata": {},
   "outputs": [],
   "source": [
    "# dropping columns with over 95% missing data or not significant to the problem statement \n",
    "\n",
    "df.drop(columns=['cxr_findings', 'cxr_impression', 'cxr_label', 'cxr_link', 'batch_date', 'fever',\n",
    "                 'sob_severity', 'rapid_flu_results', 'rapid_strep_results', 'er_referral', 'cough_severity'], inplace=True)"
   ]
  },
  {
   "cell_type": "code",
   "execution_count": 35,
   "metadata": {},
   "outputs": [],
   "source": [
    "# droping rows with little missing data\n",
    "\n",
    "df.dropna(subset=['high_risk_exposure_occupation', 'sob', 'diarrhea', 'fatigue', 'headache', 'loss_of_smell', 'loss_of_taste', 'runny_nose', 'muscle_sore', 'sore_throat', 'cough'], inplace=True)"
   ]
  },
  {
   "cell_type": "code",
   "execution_count": 36,
   "metadata": {},
   "outputs": [
    {
     "data": {
      "text/plain": [
       "(93785, 45)"
      ]
     },
     "execution_count": 36,
     "metadata": {},
     "output_type": "execute_result"
    }
   ],
   "source": [
    "# checking the shape\n",
    "\n",
    "df.shape"
   ]
  },
  {
   "cell_type": "code",
   "execution_count": 37,
   "metadata": {},
   "outputs": [],
   "source": [
    "# reset index prior to the next cell\n",
    "df.reset_index(drop=True, inplace=True)"
   ]
  },
  {
   "cell_type": "code",
   "execution_count": 38,
   "metadata": {},
   "outputs": [],
   "source": [
    "# finding the rows with over 4 nulls\n",
    "\n",
    "nulls_list = []\n",
    "for i in range(len(df.index)):\n",
    "    nulls = df.iloc[i].isnull().sum()\n",
    "    if nulls > 4:\n",
    "        nulls_list.append(i)\n",
    "\n",
    "\n",
    "# some of the code from https://thispointer.com/python-pandas-count-number-of-nan-or-missing-values-in-dataframe-also-row-column-wise/"
   ]
  },
  {
   "cell_type": "code",
   "execution_count": 39,
   "metadata": {},
   "outputs": [],
   "source": [
    "# dropping the rows with over 4 nulls \n",
    "\n",
    "\n",
    "df.drop(index=nulls_list, inplace=True)"
   ]
  },
  {
   "cell_type": "code",
   "execution_count": 40,
   "metadata": {},
   "outputs": [
    {
     "data": {
      "text/plain": [
       "swab_type                                                               3\n",
       "covid19_test_results                                                    0\n",
       "age                                                                     0\n",
       "high_risk_exposure_occupation                                           0\n",
       "high_risk_interactions                                               4243\n",
       "diabetes                                                                0\n",
       "chd                                                                     0\n",
       "htn                                                                     0\n",
       "cancer                                                                  0\n",
       "asthma                                                                  0\n",
       "copd                                                                    0\n",
       "autoimmune_dis                                                          0\n",
       "smoker                                                                  0\n",
       "temperature                                                             0\n",
       "pulse                                                                   0\n",
       "sys                                                                     0\n",
       "dia                                                                     0\n",
       "rr                                                                      0\n",
       "sats                                                                    0\n",
       "ctab                                                                37923\n",
       "labored_respiration                                                 24708\n",
       "rhonchi                                                             50040\n",
       "wheezes                                                             45898\n",
       "days_since_symptom_onset                                                0\n",
       "cough                                                                   0\n",
       "sob                                                                     0\n",
       "diarrhea                                                                0\n",
       "fatigue                                                                 0\n",
       "headache                                                                0\n",
       "loss_of_smell                                                           0\n",
       "loss_of_taste                                                           0\n",
       "runny_nose                                                              0\n",
       "muscle_sore                                                             0\n",
       "sore_throat                                                             0\n",
       "test_name_COVID-19 PCR Test (Curative)                                  0\n",
       "test_name_COVID-19 Vitagene At Home Test Kit                            0\n",
       "test_name_Rapid COVID-19 PCR Test                                       0\n",
       "test_name_Rapid COVID-19 Test                                           0\n",
       "test_name_SARS COV 2 RNA RTPCR                                          0\n",
       "test_name_SARS COV2 NAAT                                                0\n",
       "test_name_SARS CoV w/CoV 2 RNA                                          0\n",
       "test_name_SARS-CoV-2 (COVID-19) by NAAT/RT-PCR/TMA, High Risk           0\n",
       "test_name_SARS-CoV-2 (COVID-19) by NAAT/RT-PCR/TMA, Unknown Risk        0\n",
       "test_name_SARS-CoV-2, NAA                                               0\n",
       "fever2                                                                  0\n",
       "dtype: int64"
      ]
     },
     "execution_count": 40,
     "metadata": {},
     "output_type": "execute_result"
    }
   ],
   "source": [
    "# checking the null status \n",
    "\n",
    "df.isnull().sum()"
   ]
  },
  {
   "cell_type": "code",
   "execution_count": 41,
   "metadata": {},
   "outputs": [
    {
     "data": {
      "text/plain": [
       "(73372, 45)"
      ]
     },
     "execution_count": 41,
     "metadata": {},
     "output_type": "execute_result"
    }
   ],
   "source": [
    "# checking the shape\n",
    "\n",
    "df.shape"
   ]
  },
  {
   "cell_type": "code",
   "execution_count": 42,
   "metadata": {},
   "outputs": [],
   "source": [
    "# converting the dtypes from objects to bool etc. \n",
    "\n",
    "df= df.convert_dtypes()"
   ]
  },
  {
   "cell_type": "code",
   "execution_count": 43,
   "metadata": {},
   "outputs": [],
   "source": [
    "# dumming the columns left with NaNs includding the Nans left in the columns \n",
    "\n",
    "df = pd.get_dummies(data=df, columns = ['high_risk_interactions', 'ctab', 'labored_respiration', 'rhonchi', 'wheezes'], dummy_na=True)"
   ]
  },
  {
   "cell_type": "code",
   "execution_count": 44,
   "metadata": {},
   "outputs": [
    {
     "data": {
      "text/plain": [
       "(73372, 55)"
      ]
     },
     "execution_count": 44,
     "metadata": {},
     "output_type": "execute_result"
    }
   ],
   "source": [
    "# checking the shape\n",
    "\n",
    "df.shape"
   ]
  },
  {
   "cell_type": "code",
   "execution_count": 45,
   "metadata": {},
   "outputs": [
    {
     "data": {
      "text/html": [
       "<div>\n",
       "<style scoped>\n",
       "    .dataframe tbody tr th:only-of-type {\n",
       "        vertical-align: middle;\n",
       "    }\n",
       "\n",
       "    .dataframe tbody tr th {\n",
       "        vertical-align: top;\n",
       "    }\n",
       "\n",
       "    .dataframe thead th {\n",
       "        text-align: right;\n",
       "    }\n",
       "</style>\n",
       "<table border=\"1\" class=\"dataframe\">\n",
       "  <thead>\n",
       "    <tr style=\"text-align: right;\">\n",
       "      <th></th>\n",
       "      <th>swab_type</th>\n",
       "      <th>covid19_test_results</th>\n",
       "      <th>age</th>\n",
       "      <th>high_risk_exposure_occupation</th>\n",
       "      <th>diabetes</th>\n",
       "      <th>chd</th>\n",
       "      <th>htn</th>\n",
       "      <th>cancer</th>\n",
       "      <th>asthma</th>\n",
       "      <th>copd</th>\n",
       "      <th>...</th>\n",
       "      <th>high_risk_interactions_False</th>\n",
       "      <th>high_risk_interactions_True</th>\n",
       "      <th>ctab_False</th>\n",
       "      <th>ctab_True</th>\n",
       "      <th>labored_respiration_False</th>\n",
       "      <th>labored_respiration_True</th>\n",
       "      <th>rhonchi_False</th>\n",
       "      <th>rhonchi_True</th>\n",
       "      <th>wheezes_False</th>\n",
       "      <th>wheezes_True</th>\n",
       "    </tr>\n",
       "  </thead>\n",
       "  <tbody>\n",
       "    <tr>\n",
       "      <th>0</th>\n",
       "      <td>0</td>\n",
       "      <td>0</td>\n",
       "      <td>15</td>\n",
       "      <td>False</td>\n",
       "      <td>False</td>\n",
       "      <td>False</td>\n",
       "      <td>False</td>\n",
       "      <td>False</td>\n",
       "      <td>False</td>\n",
       "      <td>False</td>\n",
       "      <td>...</td>\n",
       "      <td>1</td>\n",
       "      <td>0</td>\n",
       "      <td>1</td>\n",
       "      <td>0</td>\n",
       "      <td>1</td>\n",
       "      <td>0</td>\n",
       "      <td>1</td>\n",
       "      <td>0</td>\n",
       "      <td>1</td>\n",
       "      <td>0</td>\n",
       "    </tr>\n",
       "    <tr>\n",
       "      <th>1</th>\n",
       "      <td>1</td>\n",
       "      <td>0</td>\n",
       "      <td>20</td>\n",
       "      <td>False</td>\n",
       "      <td>False</td>\n",
       "      <td>False</td>\n",
       "      <td>False</td>\n",
       "      <td>False</td>\n",
       "      <td>False</td>\n",
       "      <td>False</td>\n",
       "      <td>...</td>\n",
       "      <td>1</td>\n",
       "      <td>0</td>\n",
       "      <td>0</td>\n",
       "      <td>1</td>\n",
       "      <td>1</td>\n",
       "      <td>0</td>\n",
       "      <td>0</td>\n",
       "      <td>1</td>\n",
       "      <td>0</td>\n",
       "      <td>1</td>\n",
       "    </tr>\n",
       "    <tr>\n",
       "      <th>2</th>\n",
       "      <td>0</td>\n",
       "      <td>0</td>\n",
       "      <td>14</td>\n",
       "      <td>False</td>\n",
       "      <td>False</td>\n",
       "      <td>False</td>\n",
       "      <td>False</td>\n",
       "      <td>False</td>\n",
       "      <td>False</td>\n",
       "      <td>False</td>\n",
       "      <td>...</td>\n",
       "      <td>0</td>\n",
       "      <td>0</td>\n",
       "      <td>1</td>\n",
       "      <td>0</td>\n",
       "      <td>1</td>\n",
       "      <td>0</td>\n",
       "      <td>0</td>\n",
       "      <td>0</td>\n",
       "      <td>0</td>\n",
       "      <td>0</td>\n",
       "    </tr>\n",
       "    <tr>\n",
       "      <th>3</th>\n",
       "      <td>1</td>\n",
       "      <td>0</td>\n",
       "      <td>32</td>\n",
       "      <td>False</td>\n",
       "      <td>False</td>\n",
       "      <td>False</td>\n",
       "      <td>False</td>\n",
       "      <td>False</td>\n",
       "      <td>False</td>\n",
       "      <td>False</td>\n",
       "      <td>...</td>\n",
       "      <td>1</td>\n",
       "      <td>0</td>\n",
       "      <td>1</td>\n",
       "      <td>0</td>\n",
       "      <td>0</td>\n",
       "      <td>0</td>\n",
       "      <td>0</td>\n",
       "      <td>0</td>\n",
       "      <td>0</td>\n",
       "      <td>0</td>\n",
       "    </tr>\n",
       "    <tr>\n",
       "      <th>4</th>\n",
       "      <td>0</td>\n",
       "      <td>0</td>\n",
       "      <td>29</td>\n",
       "      <td>False</td>\n",
       "      <td>False</td>\n",
       "      <td>False</td>\n",
       "      <td>False</td>\n",
       "      <td>False</td>\n",
       "      <td>False</td>\n",
       "      <td>False</td>\n",
       "      <td>...</td>\n",
       "      <td>0</td>\n",
       "      <td>1</td>\n",
       "      <td>1</td>\n",
       "      <td>0</td>\n",
       "      <td>0</td>\n",
       "      <td>0</td>\n",
       "      <td>0</td>\n",
       "      <td>0</td>\n",
       "      <td>1</td>\n",
       "      <td>0</td>\n",
       "    </tr>\n",
       "    <tr>\n",
       "      <th>...</th>\n",
       "      <td>...</td>\n",
       "      <td>...</td>\n",
       "      <td>...</td>\n",
       "      <td>...</td>\n",
       "      <td>...</td>\n",
       "      <td>...</td>\n",
       "      <td>...</td>\n",
       "      <td>...</td>\n",
       "      <td>...</td>\n",
       "      <td>...</td>\n",
       "      <td>...</td>\n",
       "      <td>...</td>\n",
       "      <td>...</td>\n",
       "      <td>...</td>\n",
       "      <td>...</td>\n",
       "      <td>...</td>\n",
       "      <td>...</td>\n",
       "      <td>...</td>\n",
       "      <td>...</td>\n",
       "      <td>...</td>\n",
       "      <td>...</td>\n",
       "    </tr>\n",
       "    <tr>\n",
       "      <th>93780</th>\n",
       "      <td>1</td>\n",
       "      <td>0</td>\n",
       "      <td>36</td>\n",
       "      <td>True</td>\n",
       "      <td>False</td>\n",
       "      <td>False</td>\n",
       "      <td>False</td>\n",
       "      <td>False</td>\n",
       "      <td>False</td>\n",
       "      <td>False</td>\n",
       "      <td>...</td>\n",
       "      <td>1</td>\n",
       "      <td>0</td>\n",
       "      <td>1</td>\n",
       "      <td>0</td>\n",
       "      <td>1</td>\n",
       "      <td>0</td>\n",
       "      <td>1</td>\n",
       "      <td>0</td>\n",
       "      <td>1</td>\n",
       "      <td>0</td>\n",
       "    </tr>\n",
       "    <tr>\n",
       "      <th>93781</th>\n",
       "      <td>1</td>\n",
       "      <td>0</td>\n",
       "      <td>69</td>\n",
       "      <td>False</td>\n",
       "      <td>False</td>\n",
       "      <td>False</td>\n",
       "      <td>False</td>\n",
       "      <td>False</td>\n",
       "      <td>False</td>\n",
       "      <td>False</td>\n",
       "      <td>...</td>\n",
       "      <td>1</td>\n",
       "      <td>0</td>\n",
       "      <td>1</td>\n",
       "      <td>0</td>\n",
       "      <td>1</td>\n",
       "      <td>0</td>\n",
       "      <td>1</td>\n",
       "      <td>0</td>\n",
       "      <td>1</td>\n",
       "      <td>0</td>\n",
       "    </tr>\n",
       "    <tr>\n",
       "      <th>93782</th>\n",
       "      <td>1</td>\n",
       "      <td>0</td>\n",
       "      <td>15</td>\n",
       "      <td>False</td>\n",
       "      <td>False</td>\n",
       "      <td>False</td>\n",
       "      <td>False</td>\n",
       "      <td>False</td>\n",
       "      <td>False</td>\n",
       "      <td>False</td>\n",
       "      <td>...</td>\n",
       "      <td>1</td>\n",
       "      <td>0</td>\n",
       "      <td>1</td>\n",
       "      <td>0</td>\n",
       "      <td>1</td>\n",
       "      <td>0</td>\n",
       "      <td>1</td>\n",
       "      <td>0</td>\n",
       "      <td>1</td>\n",
       "      <td>0</td>\n",
       "    </tr>\n",
       "    <tr>\n",
       "      <th>93783</th>\n",
       "      <td>1</td>\n",
       "      <td>0</td>\n",
       "      <td>34</td>\n",
       "      <td>False</td>\n",
       "      <td>False</td>\n",
       "      <td>False</td>\n",
       "      <td>False</td>\n",
       "      <td>False</td>\n",
       "      <td>False</td>\n",
       "      <td>False</td>\n",
       "      <td>...</td>\n",
       "      <td>1</td>\n",
       "      <td>0</td>\n",
       "      <td>1</td>\n",
       "      <td>0</td>\n",
       "      <td>0</td>\n",
       "      <td>0</td>\n",
       "      <td>0</td>\n",
       "      <td>0</td>\n",
       "      <td>0</td>\n",
       "      <td>0</td>\n",
       "    </tr>\n",
       "    <tr>\n",
       "      <th>93784</th>\n",
       "      <td>1</td>\n",
       "      <td>0</td>\n",
       "      <td>24</td>\n",
       "      <td>False</td>\n",
       "      <td>False</td>\n",
       "      <td>False</td>\n",
       "      <td>False</td>\n",
       "      <td>False</td>\n",
       "      <td>False</td>\n",
       "      <td>False</td>\n",
       "      <td>...</td>\n",
       "      <td>0</td>\n",
       "      <td>0</td>\n",
       "      <td>0</td>\n",
       "      <td>1</td>\n",
       "      <td>1</td>\n",
       "      <td>0</td>\n",
       "      <td>0</td>\n",
       "      <td>1</td>\n",
       "      <td>0</td>\n",
       "      <td>1</td>\n",
       "    </tr>\n",
       "  </tbody>\n",
       "</table>\n",
       "<p>73372 rows × 50 columns</p>\n",
       "</div>"
      ],
      "text/plain": [
       "       swab_type  covid19_test_results  age  high_risk_exposure_occupation  \\\n",
       "0              0                     0   15                          False   \n",
       "1              1                     0   20                          False   \n",
       "2              0                     0   14                          False   \n",
       "3              1                     0   32                          False   \n",
       "4              0                     0   29                          False   \n",
       "...          ...                   ...  ...                            ...   \n",
       "93780          1                     0   36                           True   \n",
       "93781          1                     0   69                          False   \n",
       "93782          1                     0   15                          False   \n",
       "93783          1                     0   34                          False   \n",
       "93784          1                     0   24                          False   \n",
       "\n",
       "       diabetes    chd    htn  cancer  asthma   copd  ...  \\\n",
       "0         False  False  False   False   False  False  ...   \n",
       "1         False  False  False   False   False  False  ...   \n",
       "2         False  False  False   False   False  False  ...   \n",
       "3         False  False  False   False   False  False  ...   \n",
       "4         False  False  False   False   False  False  ...   \n",
       "...         ...    ...    ...     ...     ...    ...  ...   \n",
       "93780     False  False  False   False   False  False  ...   \n",
       "93781     False  False  False   False   False  False  ...   \n",
       "93782     False  False  False   False   False  False  ...   \n",
       "93783     False  False  False   False   False  False  ...   \n",
       "93784     False  False  False   False   False  False  ...   \n",
       "\n",
       "       high_risk_interactions_False  high_risk_interactions_True  ctab_False  \\\n",
       "0                                 1                            0           1   \n",
       "1                                 1                            0           0   \n",
       "2                                 0                            0           1   \n",
       "3                                 1                            0           1   \n",
       "4                                 0                            1           1   \n",
       "...                             ...                          ...         ...   \n",
       "93780                             1                            0           1   \n",
       "93781                             1                            0           1   \n",
       "93782                             1                            0           1   \n",
       "93783                             1                            0           1   \n",
       "93784                             0                            0           0   \n",
       "\n",
       "       ctab_True  labored_respiration_False  labored_respiration_True  \\\n",
       "0              0                          1                         0   \n",
       "1              1                          1                         0   \n",
       "2              0                          1                         0   \n",
       "3              0                          0                         0   \n",
       "4              0                          0                         0   \n",
       "...          ...                        ...                       ...   \n",
       "93780          0                          1                         0   \n",
       "93781          0                          1                         0   \n",
       "93782          0                          1                         0   \n",
       "93783          0                          0                         0   \n",
       "93784          1                          1                         0   \n",
       "\n",
       "       rhonchi_False  rhonchi_True  wheezes_False  wheezes_True  \n",
       "0                  1             0              1             0  \n",
       "1                  0             1              0             1  \n",
       "2                  0             0              0             0  \n",
       "3                  0             0              0             0  \n",
       "4                  0             0              1             0  \n",
       "...              ...           ...            ...           ...  \n",
       "93780              1             0              1             0  \n",
       "93781              1             0              1             0  \n",
       "93782              1             0              1             0  \n",
       "93783              0             0              0             0  \n",
       "93784              0             1              0             1  \n",
       "\n",
       "[73372 rows x 50 columns]"
      ]
     },
     "execution_count": 45,
     "metadata": {},
     "output_type": "execute_result"
    }
   ],
   "source": [
    "# dropping the dummy Nan columns \n",
    "\n",
    "nan_cols = [col for col in df.columns if 'nan' in col]\n",
    "df.drop(columns = nan_cols)"
   ]
  },
  {
   "cell_type": "code",
   "execution_count": 46,
   "metadata": {},
   "outputs": [
    {
     "data": {
      "text/plain": [
       "swab_type                                                           3\n",
       "covid19_test_results                                                0\n",
       "age                                                                 0\n",
       "high_risk_exposure_occupation                                       0\n",
       "diabetes                                                            0\n",
       "chd                                                                 0\n",
       "htn                                                                 0\n",
       "cancer                                                              0\n",
       "asthma                                                              0\n",
       "copd                                                                0\n",
       "autoimmune_dis                                                      0\n",
       "smoker                                                              0\n",
       "temperature                                                         0\n",
       "pulse                                                               0\n",
       "sys                                                                 0\n",
       "dia                                                                 0\n",
       "rr                                                                  0\n",
       "sats                                                                0\n",
       "days_since_symptom_onset                                            0\n",
       "cough                                                               0\n",
       "sob                                                                 0\n",
       "diarrhea                                                            0\n",
       "fatigue                                                             0\n",
       "headache                                                            0\n",
       "loss_of_smell                                                       0\n",
       "loss_of_taste                                                       0\n",
       "runny_nose                                                          0\n",
       "muscle_sore                                                         0\n",
       "sore_throat                                                         0\n",
       "test_name_COVID-19 PCR Test (Curative)                              0\n",
       "test_name_COVID-19 Vitagene At Home Test Kit                        0\n",
       "test_name_Rapid COVID-19 PCR Test                                   0\n",
       "test_name_Rapid COVID-19 Test                                       0\n",
       "test_name_SARS COV 2 RNA RTPCR                                      0\n",
       "test_name_SARS COV2 NAAT                                            0\n",
       "test_name_SARS CoV w/CoV 2 RNA                                      0\n",
       "test_name_SARS-CoV-2 (COVID-19) by NAAT/RT-PCR/TMA, High Risk       0\n",
       "test_name_SARS-CoV-2 (COVID-19) by NAAT/RT-PCR/TMA, Unknown Risk    0\n",
       "test_name_SARS-CoV-2, NAA                                           0\n",
       "fever2                                                              0\n",
       "high_risk_interactions_False                                        0\n",
       "high_risk_interactions_True                                         0\n",
       "high_risk_interactions_nan                                          0\n",
       "ctab_False                                                          0\n",
       "ctab_True                                                           0\n",
       "ctab_nan                                                            0\n",
       "labored_respiration_False                                           0\n",
       "labored_respiration_True                                            0\n",
       "labored_respiration_nan                                             0\n",
       "rhonchi_False                                                       0\n",
       "rhonchi_True                                                        0\n",
       "rhonchi_nan                                                         0\n",
       "wheezes_False                                                       0\n",
       "wheezes_True                                                        0\n",
       "wheezes_nan                                                         0\n",
       "dtype: int64"
      ]
     },
     "execution_count": 46,
     "metadata": {},
     "output_type": "execute_result"
    }
   ],
   "source": [
    "# checking the null status\n",
    "\n",
    "df.isnull().sum()"
   ]
  },
  {
   "cell_type": "code",
   "execution_count": 47,
   "metadata": {},
   "outputs": [],
   "source": [
    "df = df.dropna(subset=['swab_type'])"
   ]
  },
  {
   "cell_type": "code",
   "execution_count": 48,
   "metadata": {},
   "outputs": [
    {
     "data": {
      "text/plain": [
       "swab_type                                                           0\n",
       "covid19_test_results                                                0\n",
       "age                                                                 0\n",
       "high_risk_exposure_occupation                                       0\n",
       "diabetes                                                            0\n",
       "chd                                                                 0\n",
       "htn                                                                 0\n",
       "cancer                                                              0\n",
       "asthma                                                              0\n",
       "copd                                                                0\n",
       "autoimmune_dis                                                      0\n",
       "smoker                                                              0\n",
       "temperature                                                         0\n",
       "pulse                                                               0\n",
       "sys                                                                 0\n",
       "dia                                                                 0\n",
       "rr                                                                  0\n",
       "sats                                                                0\n",
       "days_since_symptom_onset                                            0\n",
       "cough                                                               0\n",
       "sob                                                                 0\n",
       "diarrhea                                                            0\n",
       "fatigue                                                             0\n",
       "headache                                                            0\n",
       "loss_of_smell                                                       0\n",
       "loss_of_taste                                                       0\n",
       "runny_nose                                                          0\n",
       "muscle_sore                                                         0\n",
       "sore_throat                                                         0\n",
       "test_name_COVID-19 PCR Test (Curative)                              0\n",
       "test_name_COVID-19 Vitagene At Home Test Kit                        0\n",
       "test_name_Rapid COVID-19 PCR Test                                   0\n",
       "test_name_Rapid COVID-19 Test                                       0\n",
       "test_name_SARS COV 2 RNA RTPCR                                      0\n",
       "test_name_SARS COV2 NAAT                                            0\n",
       "test_name_SARS CoV w/CoV 2 RNA                                      0\n",
       "test_name_SARS-CoV-2 (COVID-19) by NAAT/RT-PCR/TMA, High Risk       0\n",
       "test_name_SARS-CoV-2 (COVID-19) by NAAT/RT-PCR/TMA, Unknown Risk    0\n",
       "test_name_SARS-CoV-2, NAA                                           0\n",
       "fever2                                                              0\n",
       "high_risk_interactions_False                                        0\n",
       "high_risk_interactions_True                                         0\n",
       "high_risk_interactions_nan                                          0\n",
       "ctab_False                                                          0\n",
       "ctab_True                                                           0\n",
       "ctab_nan                                                            0\n",
       "labored_respiration_False                                           0\n",
       "labored_respiration_True                                            0\n",
       "labored_respiration_nan                                             0\n",
       "rhonchi_False                                                       0\n",
       "rhonchi_True                                                        0\n",
       "rhonchi_nan                                                         0\n",
       "wheezes_False                                                       0\n",
       "wheezes_True                                                        0\n",
       "wheezes_nan                                                         0\n",
       "dtype: int64"
      ]
     },
     "execution_count": 48,
     "metadata": {},
     "output_type": "execute_result"
    }
   ],
   "source": [
    "# checking the null status\n",
    "\n",
    "df.isnull().sum()"
   ]
  },
  {
   "cell_type": "code",
   "execution_count": 49,
   "metadata": {},
   "outputs": [],
   "source": [
    "df = pd.get_dummies(data=df, drop_first=True)"
   ]
  },
  {
   "cell_type": "code",
   "execution_count": 50,
   "metadata": {},
   "outputs": [
    {
     "data": {
      "text/plain": [
       "(73369, 55)"
      ]
     },
     "execution_count": 50,
     "metadata": {},
     "output_type": "execute_result"
    }
   ],
   "source": [
    "# checking the shape \n",
    "\n",
    "df.shape"
   ]
  },
  {
   "cell_type": "code",
   "execution_count": 51,
   "metadata": {},
   "outputs": [
    {
     "data": {
      "image/png": "[encoded data removed]",
      "text/plain": [
       "<Figure size 864x864 with 2 Axes>"
      ]
     },
     "metadata": {
      "needs_background": "light"
     },
     "output_type": "display_data"
    }
   ],
   "source": [
    "# looking at the correlation of the columns \n",
    "\n",
    "plt.figure(figsize=(12, 12))\n",
    "corr = df.corr()[['covid19_test_results']].sort_values(by='covid19_test_results') \n",
    "sns.heatmap(corr, cmap=\"winter\", annot=True, vmin=-1, vmax=1);"
   ]
  },
  {
   "cell_type": "code",
   "execution_count": 52,
   "metadata": {},
   "outputs": [
    {
     "name": "stdout",
     "output_type": "stream",
     "text": [
      "Index(['high_risk_exposure_occupation', 'diabetes', 'chd', 'htn', 'cancer',\n",
      "       'asthma', 'copd', 'autoimmune_dis', 'smoker', 'cough', 'sob',\n",
      "       'diarrhea', 'fatigue', 'headache', 'loss_of_smell', 'loss_of_taste',\n",
      "       'runny_nose', 'muscle_sore', 'sore_throat', 'fever2'],\n",
      "      dtype='object')\n"
     ]
    }
   ],
   "source": [
    "bool_cols = df.columns[df.dtypes == 'boolean']\n",
    "\n",
    "print(bool_cols)"
   ]
  },
  {
   "cell_type": "code",
   "execution_count": 53,
   "metadata": {},
   "outputs": [],
   "source": [
    "df[bool_cols] = df[bool_cols].replace({True: 1, False: 0})"
   ]
  },
  {
   "cell_type": "code",
   "execution_count": 54,
   "metadata": {},
   "outputs": [
    {
     "data": {
      "text/html": [
       "<div>\n",
       "<style scoped>\n",
       "    .dataframe tbody tr th:only-of-type {\n",
       "        vertical-align: middle;\n",
       "    }\n",
       "\n",
       "    .dataframe tbody tr th {\n",
       "        vertical-align: top;\n",
       "    }\n",
       "\n",
       "    .dataframe thead th {\n",
       "        text-align: right;\n",
       "    }\n",
       "</style>\n",
       "<table border=\"1\" class=\"dataframe\">\n",
       "  <thead>\n",
       "    <tr style=\"text-align: right;\">\n",
       "      <th></th>\n",
       "      <th>swab_type</th>\n",
       "      <th>covid19_test_results</th>\n",
       "      <th>age</th>\n",
       "      <th>high_risk_exposure_occupation</th>\n",
       "      <th>diabetes</th>\n",
       "      <th>chd</th>\n",
       "      <th>htn</th>\n",
       "      <th>cancer</th>\n",
       "      <th>asthma</th>\n",
       "      <th>copd</th>\n",
       "      <th>...</th>\n",
       "      <th>ctab_nan</th>\n",
       "      <th>labored_respiration_False</th>\n",
       "      <th>labored_respiration_True</th>\n",
       "      <th>labored_respiration_nan</th>\n",
       "      <th>rhonchi_False</th>\n",
       "      <th>rhonchi_True</th>\n",
       "      <th>rhonchi_nan</th>\n",
       "      <th>wheezes_False</th>\n",
       "      <th>wheezes_True</th>\n",
       "      <th>wheezes_nan</th>\n",
       "    </tr>\n",
       "  </thead>\n",
       "  <tbody>\n",
       "    <tr>\n",
       "      <th>0</th>\n",
       "      <td>0</td>\n",
       "      <td>0</td>\n",
       "      <td>15</td>\n",
       "      <td>0</td>\n",
       "      <td>0</td>\n",
       "      <td>0</td>\n",
       "      <td>0</td>\n",
       "      <td>0</td>\n",
       "      <td>0</td>\n",
       "      <td>0</td>\n",
       "      <td>...</td>\n",
       "      <td>0</td>\n",
       "      <td>1</td>\n",
       "      <td>0</td>\n",
       "      <td>0</td>\n",
       "      <td>1</td>\n",
       "      <td>0</td>\n",
       "      <td>0</td>\n",
       "      <td>1</td>\n",
       "      <td>0</td>\n",
       "      <td>0</td>\n",
       "    </tr>\n",
       "    <tr>\n",
       "      <th>1</th>\n",
       "      <td>1</td>\n",
       "      <td>0</td>\n",
       "      <td>20</td>\n",
       "      <td>0</td>\n",
       "      <td>0</td>\n",
       "      <td>0</td>\n",
       "      <td>0</td>\n",
       "      <td>0</td>\n",
       "      <td>0</td>\n",
       "      <td>0</td>\n",
       "      <td>...</td>\n",
       "      <td>0</td>\n",
       "      <td>1</td>\n",
       "      <td>0</td>\n",
       "      <td>0</td>\n",
       "      <td>0</td>\n",
       "      <td>1</td>\n",
       "      <td>0</td>\n",
       "      <td>0</td>\n",
       "      <td>1</td>\n",
       "      <td>0</td>\n",
       "    </tr>\n",
       "    <tr>\n",
       "      <th>2</th>\n",
       "      <td>0</td>\n",
       "      <td>0</td>\n",
       "      <td>14</td>\n",
       "      <td>0</td>\n",
       "      <td>0</td>\n",
       "      <td>0</td>\n",
       "      <td>0</td>\n",
       "      <td>0</td>\n",
       "      <td>0</td>\n",
       "      <td>0</td>\n",
       "      <td>...</td>\n",
       "      <td>0</td>\n",
       "      <td>1</td>\n",
       "      <td>0</td>\n",
       "      <td>0</td>\n",
       "      <td>0</td>\n",
       "      <td>0</td>\n",
       "      <td>1</td>\n",
       "      <td>0</td>\n",
       "      <td>0</td>\n",
       "      <td>1</td>\n",
       "    </tr>\n",
       "    <tr>\n",
       "      <th>3</th>\n",
       "      <td>1</td>\n",
       "      <td>0</td>\n",
       "      <td>32</td>\n",
       "      <td>0</td>\n",
       "      <td>0</td>\n",
       "      <td>0</td>\n",
       "      <td>0</td>\n",
       "      <td>0</td>\n",
       "      <td>0</td>\n",
       "      <td>0</td>\n",
       "      <td>...</td>\n",
       "      <td>0</td>\n",
       "      <td>0</td>\n",
       "      <td>0</td>\n",
       "      <td>1</td>\n",
       "      <td>0</td>\n",
       "      <td>0</td>\n",
       "      <td>1</td>\n",
       "      <td>0</td>\n",
       "      <td>0</td>\n",
       "      <td>1</td>\n",
       "    </tr>\n",
       "    <tr>\n",
       "      <th>4</th>\n",
       "      <td>0</td>\n",
       "      <td>0</td>\n",
       "      <td>29</td>\n",
       "      <td>0</td>\n",
       "      <td>0</td>\n",
       "      <td>0</td>\n",
       "      <td>0</td>\n",
       "      <td>0</td>\n",
       "      <td>0</td>\n",
       "      <td>0</td>\n",
       "      <td>...</td>\n",
       "      <td>0</td>\n",
       "      <td>0</td>\n",
       "      <td>0</td>\n",
       "      <td>1</td>\n",
       "      <td>0</td>\n",
       "      <td>0</td>\n",
       "      <td>1</td>\n",
       "      <td>1</td>\n",
       "      <td>0</td>\n",
       "      <td>0</td>\n",
       "    </tr>\n",
       "    <tr>\n",
       "      <th>...</th>\n",
       "      <td>...</td>\n",
       "      <td>...</td>\n",
       "      <td>...</td>\n",
       "      <td>...</td>\n",
       "      <td>...</td>\n",
       "      <td>...</td>\n",
       "      <td>...</td>\n",
       "      <td>...</td>\n",
       "      <td>...</td>\n",
       "      <td>...</td>\n",
       "      <td>...</td>\n",
       "      <td>...</td>\n",
       "      <td>...</td>\n",
       "      <td>...</td>\n",
       "      <td>...</td>\n",
       "      <td>...</td>\n",
       "      <td>...</td>\n",
       "      <td>...</td>\n",
       "      <td>...</td>\n",
       "      <td>...</td>\n",
       "      <td>...</td>\n",
       "    </tr>\n",
       "    <tr>\n",
       "      <th>93780</th>\n",
       "      <td>1</td>\n",
       "      <td>0</td>\n",
       "      <td>36</td>\n",
       "      <td>1</td>\n",
       "      <td>0</td>\n",
       "      <td>0</td>\n",
       "      <td>0</td>\n",
       "      <td>0</td>\n",
       "      <td>0</td>\n",
       "      <td>0</td>\n",
       "      <td>...</td>\n",
       "      <td>0</td>\n",
       "      <td>1</td>\n",
       "      <td>0</td>\n",
       "      <td>0</td>\n",
       "      <td>1</td>\n",
       "      <td>0</td>\n",
       "      <td>0</td>\n",
       "      <td>1</td>\n",
       "      <td>0</td>\n",
       "      <td>0</td>\n",
       "    </tr>\n",
       "    <tr>\n",
       "      <th>93781</th>\n",
       "      <td>1</td>\n",
       "      <td>0</td>\n",
       "      <td>69</td>\n",
       "      <td>0</td>\n",
       "      <td>0</td>\n",
       "      <td>0</td>\n",
       "      <td>0</td>\n",
       "      <td>0</td>\n",
       "      <td>0</td>\n",
       "      <td>0</td>\n",
       "      <td>...</td>\n",
       "      <td>0</td>\n",
       "      <td>1</td>\n",
       "      <td>0</td>\n",
       "      <td>0</td>\n",
       "      <td>1</td>\n",
       "      <td>0</td>\n",
       "      <td>0</td>\n",
       "      <td>1</td>\n",
       "      <td>0</td>\n",
       "      <td>0</td>\n",
       "    </tr>\n",
       "    <tr>\n",
       "      <th>93782</th>\n",
       "      <td>1</td>\n",
       "      <td>0</td>\n",
       "      <td>15</td>\n",
       "      <td>0</td>\n",
       "      <td>0</td>\n",
       "      <td>0</td>\n",
       "      <td>0</td>\n",
       "      <td>0</td>\n",
       "      <td>0</td>\n",
       "      <td>0</td>\n",
       "      <td>...</td>\n",
       "      <td>0</td>\n",
       "      <td>1</td>\n",
       "      <td>0</td>\n",
       "      <td>0</td>\n",
       "      <td>1</td>\n",
       "      <td>0</td>\n",
       "      <td>0</td>\n",
       "      <td>1</td>\n",
       "      <td>0</td>\n",
       "      <td>0</td>\n",
       "    </tr>\n",
       "    <tr>\n",
       "      <th>93783</th>\n",
       "      <td>1</td>\n",
       "      <td>0</td>\n",
       "      <td>34</td>\n",
       "      <td>0</td>\n",
       "      <td>0</td>\n",
       "      <td>0</td>\n",
       "      <td>0</td>\n",
       "      <td>0</td>\n",
       "      <td>0</td>\n",
       "      <td>0</td>\n",
       "      <td>...</td>\n",
       "      <td>0</td>\n",
       "      <td>0</td>\n",
       "      <td>0</td>\n",
       "      <td>1</td>\n",
       "      <td>0</td>\n",
       "      <td>0</td>\n",
       "      <td>1</td>\n",
       "      <td>0</td>\n",
       "      <td>0</td>\n",
       "      <td>1</td>\n",
       "    </tr>\n",
       "    <tr>\n",
       "      <th>93784</th>\n",
       "      <td>1</td>\n",
       "      <td>0</td>\n",
       "      <td>24</td>\n",
       "      <td>0</td>\n",
       "      <td>0</td>\n",
       "      <td>0</td>\n",
       "      <td>0</td>\n",
       "      <td>0</td>\n",
       "      <td>0</td>\n",
       "      <td>0</td>\n",
       "      <td>...</td>\n",
       "      <td>0</td>\n",
       "      <td>1</td>\n",
       "      <td>0</td>\n",
       "      <td>0</td>\n",
       "      <td>0</td>\n",
       "      <td>1</td>\n",
       "      <td>0</td>\n",
       "      <td>0</td>\n",
       "      <td>1</td>\n",
       "      <td>0</td>\n",
       "    </tr>\n",
       "  </tbody>\n",
       "</table>\n",
       "<p>73369 rows × 55 columns</p>\n",
       "</div>"
      ],
      "text/plain": [
       "       swab_type  covid19_test_results  age  high_risk_exposure_occupation  \\\n",
       "0              0                     0   15                              0   \n",
       "1              1                     0   20                              0   \n",
       "2              0                     0   14                              0   \n",
       "3              1                     0   32                              0   \n",
       "4              0                     0   29                              0   \n",
       "...          ...                   ...  ...                            ...   \n",
       "93780          1                     0   36                              1   \n",
       "93781          1                     0   69                              0   \n",
       "93782          1                     0   15                              0   \n",
       "93783          1                     0   34                              0   \n",
       "93784          1                     0   24                              0   \n",
       "\n",
       "       diabetes  chd  htn  cancer  asthma  copd  ...  ctab_nan  \\\n",
       "0             0    0    0       0       0     0  ...         0   \n",
       "1             0    0    0       0       0     0  ...         0   \n",
       "2             0    0    0       0       0     0  ...         0   \n",
       "3             0    0    0       0       0     0  ...         0   \n",
       "4             0    0    0       0       0     0  ...         0   \n",
       "...         ...  ...  ...     ...     ...   ...  ...       ...   \n",
       "93780         0    0    0       0       0     0  ...         0   \n",
       "93781         0    0    0       0       0     0  ...         0   \n",
       "93782         0    0    0       0       0     0  ...         0   \n",
       "93783         0    0    0       0       0     0  ...         0   \n",
       "93784         0    0    0       0       0     0  ...         0   \n",
       "\n",
       "       labored_respiration_False  labored_respiration_True  \\\n",
       "0                              1                         0   \n",
       "1                              1                         0   \n",
       "2                              1                         0   \n",
       "3                              0                         0   \n",
       "4                              0                         0   \n",
       "...                          ...                       ...   \n",
       "93780                          1                         0   \n",
       "93781                          1                         0   \n",
       "93782                          1                         0   \n",
       "93783                          0                         0   \n",
       "93784                          1                         0   \n",
       "\n",
       "       labored_respiration_nan  rhonchi_False  rhonchi_True  rhonchi_nan  \\\n",
       "0                            0              1             0            0   \n",
       "1                            0              0             1            0   \n",
       "2                            0              0             0            1   \n",
       "3                            1              0             0            1   \n",
       "4                            1              0             0            1   \n",
       "...                        ...            ...           ...          ...   \n",
       "93780                        0              1             0            0   \n",
       "93781                        0              1             0            0   \n",
       "93782                        0              1             0            0   \n",
       "93783                        1              0             0            1   \n",
       "93784                        0              0             1            0   \n",
       "\n",
       "       wheezes_False  wheezes_True  wheezes_nan  \n",
       "0                  1             0            0  \n",
       "1                  0             1            0  \n",
       "2                  0             0            1  \n",
       "3                  0             0            1  \n",
       "4                  1             0            0  \n",
       "...              ...           ...          ...  \n",
       "93780              1             0            0  \n",
       "93781              1             0            0  \n",
       "93782              1             0            0  \n",
       "93783              0             0            1  \n",
       "93784              0             1            0  \n",
       "\n",
       "[73369 rows x 55 columns]"
      ]
     },
     "execution_count": 54,
     "metadata": {},
     "output_type": "execute_result"
    }
   ],
   "source": [
    "df"
   ]
  },
  {
   "cell_type": "code",
   "execution_count": 55,
   "metadata": {},
   "outputs": [
    {
     "name": "stdout",
     "output_type": "stream",
     "text": [
      "<class 'pandas.core.frame.DataFrame'>\n",
      "Int64Index: 73369 entries, 0 to 93784\n",
      "Data columns (total 55 columns):\n",
      " #   Column                                                            Non-Null Count  Dtype  \n",
      "---  ------                                                            --------------  -----  \n",
      " 0   swab_type                                                         73369 non-null  Int64  \n",
      " 1   covid19_test_results                                              73369 non-null  Int64  \n",
      " 2   age                                                               73369 non-null  Int64  \n",
      " 3   high_risk_exposure_occupation                                     73369 non-null  int64  \n",
      " 4   diabetes                                                          73369 non-null  int64  \n",
      " 5   chd                                                               73369 non-null  int64  \n",
      " 6   htn                                                               73369 non-null  int64  \n",
      " 7   cancer                                                            73369 non-null  int64  \n",
      " 8   asthma                                                            73369 non-null  int64  \n",
      " 9   copd                                                              73369 non-null  int64  \n",
      " 10  autoimmune_dis                                                    73369 non-null  int64  \n",
      " 11  smoker                                                            73369 non-null  int64  \n",
      " 12  temperature                                                       73369 non-null  float64\n",
      " 13  pulse                                                             73369 non-null  float64\n",
      " 14  sys                                                               73369 non-null  float64\n",
      " 15  dia                                                               73369 non-null  float64\n",
      " 16  rr                                                                73369 non-null  Int64  \n",
      " 17  sats                                                              73369 non-null  float64\n",
      " 18  days_since_symptom_onset                                          73369 non-null  float64\n",
      " 19  cough                                                             73369 non-null  int64  \n",
      " 20  sob                                                               73369 non-null  int64  \n",
      " 21  diarrhea                                                          73369 non-null  int64  \n",
      " 22  fatigue                                                           73369 non-null  int64  \n",
      " 23  headache                                                          73369 non-null  int64  \n",
      " 24  loss_of_smell                                                     73369 non-null  int64  \n",
      " 25  loss_of_taste                                                     73369 non-null  int64  \n",
      " 26  runny_nose                                                        73369 non-null  int64  \n",
      " 27  muscle_sore                                                       73369 non-null  int64  \n",
      " 28  sore_throat                                                       73369 non-null  int64  \n",
      " 29  test_name_COVID-19 PCR Test (Curative)                            73369 non-null  UInt8  \n",
      " 30  test_name_COVID-19 Vitagene At Home Test Kit                      73369 non-null  UInt8  \n",
      " 31  test_name_Rapid COVID-19 PCR Test                                 73369 non-null  UInt8  \n",
      " 32  test_name_Rapid COVID-19 Test                                     73369 non-null  UInt8  \n",
      " 33  test_name_SARS COV 2 RNA RTPCR                                    73369 non-null  UInt8  \n",
      " 34  test_name_SARS COV2 NAAT                                          73369 non-null  UInt8  \n",
      " 35  test_name_SARS CoV w/CoV 2 RNA                                    73369 non-null  UInt8  \n",
      " 36  test_name_SARS-CoV-2 (COVID-19) by NAAT/RT-PCR/TMA, High Risk     73369 non-null  UInt8  \n",
      " 37  test_name_SARS-CoV-2 (COVID-19) by NAAT/RT-PCR/TMA, Unknown Risk  73369 non-null  UInt8  \n",
      " 38  test_name_SARS-CoV-2, NAA                                         73369 non-null  UInt8  \n",
      " 39  fever2                                                            73369 non-null  int64  \n",
      " 40  high_risk_interactions_False                                      73369 non-null  uint8  \n",
      " 41  high_risk_interactions_True                                       73369 non-null  uint8  \n",
      " 42  high_risk_interactions_nan                                        73369 non-null  uint8  \n",
      " 43  ctab_False                                                        73369 non-null  uint8  \n",
      " 44  ctab_True                                                         73369 non-null  uint8  \n",
      " 45  ctab_nan                                                          73369 non-null  uint8  \n",
      " 46  labored_respiration_False                                         73369 non-null  uint8  \n",
      " 47  labored_respiration_True                                          73369 non-null  uint8  \n",
      " 48  labored_respiration_nan                                           73369 non-null  uint8  \n",
      " 49  rhonchi_False                                                     73369 non-null  uint8  \n",
      " 50  rhonchi_True                                                      73369 non-null  uint8  \n",
      " 51  rhonchi_nan                                                       73369 non-null  uint8  \n",
      " 52  wheezes_False                                                     73369 non-null  uint8  \n",
      " 53  wheezes_True                                                      73369 non-null  uint8  \n",
      " 54  wheezes_nan                                                       73369 non-null  uint8  \n",
      "dtypes: Int64(4), UInt8(10), float64(6), int64(20), uint8(15)\n",
      "memory usage: 20.1 MB\n"
     ]
    }
   ],
   "source": [
    "df.info()"
   ]
  },
  {
   "cell_type": "code",
   "execution_count": 57,
   "metadata": {},
   "outputs": [],
   "source": [
    "# creating a new csv\n",
    "\n",
    "df.to_csv('../Capstone/data/df_clean.csv', index=False)"
   ]
  },
  {
   "cell_type": "code",
   "execution_count": null,
   "metadata": {},
   "outputs": [],
   "source": []
  }
 ],
 "metadata": {
  "kernelspec": {
   "display_name": "Python 3",
   "language": "python",
   "name": "python3"
  },
  "language_info": {
   "codemirror_mode": {
    "name": "ipython",
    "version": 3
   },
   "file_extension": ".py",
   "mimetype": "text/x-python",
   "name": "python",
   "nbconvert_exporter": "python",
   "pygments_lexer": "ipython3",
   "version": "3.8.3"
  }
 },
 "nbformat": 4,
 "nbformat_minor": 4
}
